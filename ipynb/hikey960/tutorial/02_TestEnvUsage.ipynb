{
 "cells": [
  {
   "cell_type": "markdown",
   "metadata": {},
   "source": [
    "# Tutorial goal"
   ]
  },
  {
   "cell_type": "markdown",
   "metadata": {},
   "source": [
    "This tutorial aims to show how to **configure** a **test environment** using\n",
    "the **TestEnv module** provided by LISA."
   ]
  },
  {
   "cell_type": "markdown",
   "metadata": {},
   "source": [
    "# Configure logging"
   ]
  },
  {
   "cell_type": "code",
   "execution_count": 1,
   "metadata": {
    "collapsed": false
   },
   "outputs": [
    {
     "name": "stderr",
     "output_type": "stream",
     "text": [
      "2017-07-14 10:49:29,625 INFO    : root         : Using LISA logging configuration:\n",
      "2017-07-14 10:49:29,630 INFO    : root         :   /data/lisa_remote/lisa/logging.conf\n"
     ]
    }
   ],
   "source": [
    "import logging\n",
    "from conf import LisaLogging\n",
    "LisaLogging.setup()"
   ]
  },
  {
   "cell_type": "code",
   "execution_count": 2,
   "metadata": {
    "collapsed": true
   },
   "outputs": [],
   "source": [
    "# Execute this cell to enabled devlib debugging statements\n",
    "logging.getLogger().setLevel(logging.DEBUG)"
   ]
  },
  {
   "cell_type": "code",
   "execution_count": 3,
   "metadata": {
    "collapsed": false
   },
   "outputs": [],
   "source": [
    "# Other python modules required by this notebook\n",
    "import json\n",
    "import time\n",
    "import os"
   ]
  },
  {
   "cell_type": "markdown",
   "metadata": {},
   "source": [
    "# Test environment setup"
   ]
  },
  {
   "cell_type": "markdown",
   "metadata": {},
   "source": [
    "## Do you have custom scripts to deploy and use on target?"
   ]
  },
  {
   "cell_type": "code",
   "execution_count": 4,
   "metadata": {
    "collapsed": false
   },
   "outputs": [
    {
     "name": "stdout",
     "output_type": "stream",
     "text": [
      "\u001b[01;34m../../../tools\u001b[00m\r\n",
      "├── \u001b[01;34marm64\u001b[00m\r\n",
      "│   ├── \u001b[01;32mperf\u001b[00m\r\n",
      "│   ├── README.rt-app\r\n",
      "│   ├── \u001b[01;32mrt-app\u001b[00m\r\n",
      "│   ├── \u001b[01;32msysbench\u001b[00m\r\n",
      "│   ├── \u001b[01;32mtaskset\u001b[00m\r\n",
      "│   └── \u001b[01;32mtrace-cmd\u001b[00m\r\n",
      "├── \u001b[01;34marmeabi\u001b[00m\r\n",
      "│   ├── \u001b[01;32mperf\u001b[00m\r\n",
      "│   ├── README.rt-app\r\n",
      "│   ├── \u001b[01;32mrt-app\u001b[00m\r\n",
      "│   ├── \u001b[01;32msysbench\u001b[00m\r\n",
      "│   ├── \u001b[01;32mtaskset\u001b[00m\r\n",
      "│   └── \u001b[01;32mtrace-cmd\u001b[00m\r\n",
      "├── LICENSE.perf\r\n",
      "├── LICENSE.rt-app\r\n",
      "├── LICENSE.sysbench\r\n",
      "├── LICENSE.taskset\r\n",
      "├── LICENSE.trace-cmd\r\n",
      "├── \u001b[01;32mplots.py\u001b[00m\r\n",
      "├── \u001b[01;32mreport.py\u001b[00m\r\n",
      "├── \u001b[01;34mscripts\u001b[00m\r\n",
      "│   ├── \u001b[01;32mcgroup_run_into.sh\u001b[00m\r\n",
      "│   ├── \u001b[01;32mcgroup_tasks_move.sh\u001b[00m\r\n",
      "│   ├── \u001b[01;32mcpuidle_sampling.sh\u001b[00m\r\n",
      "│   ├── \u001b[01;32modroid_sampler.py\u001b[00m\r\n",
      "│   ├── \u001b[01;32modroid_sampler.sh\u001b[00m\r\n",
      "│   └── \u001b[01;32mtrace_frequencies.sh\u001b[00m\r\n",
      "└── \u001b[01;34mx86_64\u001b[00m\r\n",
      "    ├── \u001b[01;32mperf\u001b[00m\r\n",
      "    ├── \u001b[01;32mrt-app\u001b[00m\r\n",
      "    ├── \u001b[01;32msysbench\u001b[00m\r\n",
      "    ├── \u001b[01;32mtaskset\u001b[00m\r\n",
      "    └── \u001b[01;32mtrace-cmd\u001b[00m\r\n",
      "\r\n",
      "4 directories, 30 files\r\n"
     ]
    }
   ],
   "source": [
    "# Custom scrips must be deployed under $LISA_HOME/tools\n",
    "!tree ../../../tools"
   ]
  },
  {
   "cell_type": "code",
   "execution_count": 5,
   "metadata": {
    "collapsed": false
   },
   "outputs": [
    {
     "name": "stdout",
     "output_type": "stream",
     "text": [
      "#!/system/bin/sh\r\n",
      "\r\n",
      "# CPU to monitor\r\n",
      "CPU=${1:-0}\r\n",
      "# Sampling time\r\n",
      "SLEEP=${2:-1}\r\n",
      "# Samples to collect\r\n",
      "COUNT=${3:-3}\r\n",
      "\r\n",
      "# Enter CPU's sysfs\r\n",
      "cd /sys/devices/system/cpu\r\n",
      "\r\n",
      "# Initial C-State residencies counter\r\n",
      "ISC=$(find cpu0/cpuidle -name \"state*\" | wc -l)\r\n",
      "for I in $(seq 0 $((ISC-1))); do\r\n",
      "\tLCS[$I]=`cat cpu$CPU/cpuidle/state$I/usage`\r\n",
      "done\r\n",
      "\r\n",
      "# Dump header\r\n",
      "printf \"#%13s \" \"Time\"\r\n",
      "for I in $(seq 0 $((ISC-1))); do\r\n",
      "  printf \"%14s \" \"idle$I\"\r\n",
      "done\r\n",
      "echo\r\n",
      "\r\n",
      "# Sampling loop\r\n",
      "for I in $(seq $COUNT); do\r\n",
      "\r\n",
      "\tsleep $SLEEP\r\n",
      "\r\n",
      "\t# Dump CPU C-State residencies\r\n",
      "\tnow=$(date +%s)\r\n",
      "\tprintf \"%14d \" $now\r\n",
      "\tfor I in $(seq 0 $((ISC-1))); do\r\n",
      "\t\tU=`cat cpu$CPU/cpuidle/state$I/usage`\r\n",
      "\t\tCCS=$(($U - ${LCS[$I]}))\r\n",
      "\t\tprintf \"%14d \" $CCS\r\n",
      "\t\tLCS[$I]=$U\r\n",
      "\tdone\r\n",
      "\techo\r\n",
      "\r\n",
      "\r\n",
      "done\r\n",
      "\r\n",
      "# vim: ts=2\r\n"
     ]
    }
   ],
   "source": [
    "# This is the (not so fancy) script we want to deploy\n",
    "!cat ../../../tools/scripts/cpuidle_sampling.sh"
   ]
  },
  {
   "cell_type": "markdown",
   "metadata": {},
   "source": [
    "## Which devlib modules you need for your experiments?"
   ]
  },
  {
   "cell_type": "code",
   "execution_count": 6,
   "metadata": {
    "collapsed": false
   },
   "outputs": [
    {
     "name": "stderr",
     "output_type": "stream",
     "text": [
      "2017-07-14 10:49:32,466 INFO    : root         : Devlib provided modules are found under:\n",
      "2017-07-14 10:49:32,468 INFO    : root         :    $LISA_HOME/libs/devlib/devlib/module/\n"
     ]
    },
    {
     "name": "stdout",
     "output_type": "stream",
     "text": [
      "   thermal.py\r\n",
      "   hwmon.py\r\n",
      "   cgroups.py\r\n",
      "   hotplug.py\r\n",
      "   cpuidle.py\r\n",
      "   cooling.py\r\n",
      "   biglittle.py\r\n",
      "   android.py\r\n",
      "   vexpress.py\r\n",
      "   gem5stats.py\r\n",
      "   cpufreq.py\r\n"
     ]
    }
   ],
   "source": [
    "# You can have a look at the devlib supported modules by lising the\n",
    "devlib_modules_folder = 'libs/devlib/devlib/module/'\n",
    "\n",
    "logging.info(\"Devlib provided modules are found under:\")\n",
    "logging.info(\"   $LISA_HOME/{}\".format(devlib_modules_folder))\n",
    "!cd ../../../ ; find {devlib_modules_folder} -name \"*.py\" | sed 's|libs/devlib/devlib/module/|   |' | grep -v __init__ "
   ]
  },
  {
   "cell_type": "markdown",
   "metadata": {},
   "source": [
    "## Setup you TestEnv confguration"
   ]
  },
  {
   "cell_type": "code",
   "execution_count": 7,
   "metadata": {
    "collapsed": false
   },
   "outputs": [],
   "source": [
    "# Setup a target configuration\n",
    "conf = {\n",
    "\n",
    "    # Define the kind of target platform to use for the experiments\n",
    "    \"platform\"    : 'android',  # platform type, valid other options are:\n",
    "                              # android - access via ADB\n",
    "                              # linux   - access via SSH\n",
    "                              # host    - direct access\n",
    "    \n",
    "    # Preload settings for a specific target\n",
    "    \"board\"       : 'hikey960',   # board type, valid options are:\n",
    "                              # - juno  - JUNO Development Board\n",
    "                              # - tc2   - TC2 Development Board\n",
    "                              # - hikey - Hikey 8 Cortex-A53 CPU board\n",
    "                              # - hikey960 - Hikey960 4 Cortex-A73 + 4 Cortex-A53 CPU board\n",
    "\n",
    "    # Login credentials\n",
    "    #\"host\"        : \"192.168.0.1\",\n",
    "    \"username\"    : \"root\",\n",
    "    \"password\"    : \"\",\n",
    "\n",
    "    # Custom tools to deploy on target, they must be placed under:\n",
    "    #   $LISA_HOME/tools/(ARCH|scripts)\n",
    "    \"tools\" : [ \"cpuidle_sampling.sh\" ],\n",
    "\n",
    "    # FTrace configuration\n",
    "    \"ftrace\" : {\n",
    "         \"events\" : [\n",
    "             \"cpu_idle\",\n",
    "             \"sched_switch\",\n",
    "         ],\n",
    "         \"buffsize\" : 10240,\n",
    "    },\n",
    "    \n",
    "    # Where results are collected\n",
    "    \"results_dir\" : \"TestEnvExample_hikey960\",\n",
    "    \n",
    "    # Devlib module required (or not required)\n",
    "    'modules' : [ \"cpufreq\", \"cgroups\" ],\n",
    "    #\"exclude_modules\" : [ \"hwmon\" ],\n",
    "    \n",
    "    # Local installation path used for kernel/dtb installation on target\n",
    "    # The specified path MUST be accessible from the board, e.g.\n",
    "    # - JUNO/TC2: it can be the mount path of the VMESD disk image\n",
    "    # - Other board: it can be a TFTP server path used by the board bootloader\n",
    "    \"tftp\"  : {\n",
    "        \"folder\"    : \"/var/lib/tftpboot\",\n",
    "        \"kernel\"    : \"kern.bin\",\n",
    "        \"dtb\"       : \"dtb.bin\",\n",
    "    },\n",
    "\n",
    "}"
   ]
  },
  {
   "cell_type": "code",
   "execution_count": 8,
   "metadata": {
    "collapsed": false,
    "scrolled": true
   },
   "outputs": [
    {
     "name": "stderr",
     "output_type": "stream",
     "text": [
      "2017-07-14 10:49:34,694 WARNING : EnergyModel  : Unusual max capacity (1023), overriding capacity_scale\n",
      "2017-07-14 10:49:34,702 INFO    : TestEnv      : Using base path: /data/lisa_remote/lisa\n",
      "2017-07-14 10:49:34,709 INFO    : TestEnv      : Loading custom (inline) target configuration\n",
      "2017-07-14 10:49:34,710 INFO    : TestEnv      : External tools using:\n",
      "2017-07-14 10:49:34,712 INFO    : TestEnv      :    ANDROID_HOME: /home/zhifei/zyang/android-sdk-linux\n",
      "2017-07-14 10:49:34,713 INFO    : TestEnv      :    CATAPULT_HOME: /data/lisa_remote/lisa/tools/catapult\n",
      "2017-07-14 10:49:34,718 INFO    : TestEnv      : Devlib modules to load: ['bl', 'cpuidle', 'cpufreq', 'cgroups']\n",
      "2017-07-14 10:49:34,720 INFO    : TestEnv      : Connecting Android target [DEFAULT]\n",
      "2017-07-14 10:49:34,722 INFO    : TestEnv      : Connection settings:\n",
      "2017-07-14 10:49:34,726 INFO    : TestEnv      :    None\n",
      "2017-07-14 10:49:35,527 INFO    : TestEnv      : Initializing target workdir:\n",
      "2017-07-14 10:49:35,532 INFO    : TestEnv      :    /data/local/tmp/devlib-target\n",
      "2017-07-14 10:49:36,656 DEBUG   : CGroups      : Available hierarchies: {1: ['cpuacct'], 2: ['schedtune'], 3: ['memory'], 4: ['cpu'], 5: ['cpuset'], 6: ['blkio', 'devices', 'freezer', 'hugetlb', 'debug']}\n",
      "2017-07-14 10:49:36,663 INFO    : CGroups      : Available controllers:\n",
      "2017-07-14 10:49:36,664 DEBUG   : CGroup.cpuset : Initialized [cpuset, 5, ['cpuset']]\n",
      "2017-07-14 10:49:36,791 DEBUG   : CGroup.cpuset : Controller cpuset mounted under: /data/local/tmp/devlib-target/cgroups/devlib_cgh5 (noprefix=True)\n",
      "2017-07-14 10:49:36,794 DEBUG   : cgroups.cpuset : Creating cgroup /data/local/tmp/devlib-target/cgroups/devlib_cgh5\n",
      "2017-07-14 10:49:36,869 INFO    : CGroups      :   cpuset       : /data/local/tmp/devlib-target/cgroups/devlib_cgh5\n",
      "2017-07-14 10:49:36,872 DEBUG   : CGroup.cpu   : Initialized [cpu, 4, ['cpu']]\n",
      "2017-07-14 10:49:37,005 DEBUG   : CGroup.cpu   : Controller cpu mounted under: /data/local/tmp/devlib-target/cgroups/devlib_cgh4 (noprefix=False)\n",
      "2017-07-14 10:49:37,007 DEBUG   : cgroups.cpu  : Creating cgroup /data/local/tmp/devlib-target/cgroups/devlib_cgh4\n",
      "2017-07-14 10:49:37,086 INFO    : CGroups      :   cpu          : /data/local/tmp/devlib-target/cgroups/devlib_cgh4\n",
      "2017-07-14 10:49:37,089 DEBUG   : CGroup.cpuacct : Initialized [cpuacct, 1, ['cpuacct']]\n",
      "2017-07-14 10:49:37,216 DEBUG   : CGroup.cpuacct : Controller cpuacct mounted under: /data/local/tmp/devlib-target/cgroups/devlib_cgh1 (noprefix=False)\n",
      "2017-07-14 10:49:37,218 DEBUG   : cgroups.cpuacct : Creating cgroup /data/local/tmp/devlib-target/cgroups/devlib_cgh1\n",
      "2017-07-14 10:49:37,300 INFO    : CGroups      :   cpuacct      : /data/local/tmp/devlib-target/cgroups/devlib_cgh1\n",
      "2017-07-14 10:49:37,303 DEBUG   : CGroup.schedtune : Initialized [schedtune, 2, ['schedtune']]\n",
      "2017-07-14 10:49:37,460 DEBUG   : CGroup.schedtune : Controller schedtune mounted under: /data/local/tmp/devlib-target/cgroups/devlib_cgh2 (noprefix=False)\n",
      "2017-07-14 10:49:37,463 DEBUG   : cgroups.schedtune : Creating cgroup /data/local/tmp/devlib-target/cgroups/devlib_cgh2\n",
      "2017-07-14 10:49:37,555 INFO    : CGroups      :   schedtune    : /data/local/tmp/devlib-target/cgroups/devlib_cgh2\n",
      "2017-07-14 10:49:37,556 DEBUG   : CGroup.blkio : Initialized [blkio, 6, ['blkio', 'devices', 'freezer', 'hugetlb', 'debug']]\n",
      "2017-07-14 10:49:37,699 DEBUG   : CGroup.blkio : Controller blkio mounted under: /data/local/tmp/devlib-target/cgroups/devlib_cgh6 (noprefix=False)\n",
      "2017-07-14 10:49:37,701 DEBUG   : cgroups.blkio : Creating cgroup /data/local/tmp/devlib-target/cgroups/devlib_cgh6\n",
      "2017-07-14 10:49:37,779 INFO    : CGroups      :   blkio        : /data/local/tmp/devlib-target/cgroups/devlib_cgh6\n",
      "2017-07-14 10:49:37,781 DEBUG   : CGroup.memory : Initialized [memory, 3, ['memory']]\n",
      "2017-07-14 10:49:37,925 DEBUG   : CGroup.memory : Controller memory mounted under: /data/local/tmp/devlib-target/cgroups/devlib_cgh3 (noprefix=False)\n",
      "2017-07-14 10:49:37,927 DEBUG   : cgroups.memory : Creating cgroup /data/local/tmp/devlib-target/cgroups/devlib_cgh3\n",
      "2017-07-14 10:49:37,998 INFO    : CGroups      :   memory       : /data/local/tmp/devlib-target/cgroups/devlib_cgh3\n",
      "2017-07-14 10:49:38,000 DEBUG   : CGroup.devices : Initialized [devices, 6, ['blkio', 'devices', 'freezer', 'hugetlb', 'debug']]\n",
      "2017-07-14 10:49:38,137 DEBUG   : CGroup.devices : Controller devices mounted under: /data/local/tmp/devlib-target/cgroups/devlib_cgh6 (noprefix=False)\n",
      "2017-07-14 10:49:38,138 DEBUG   : cgroups.devices : Creating cgroup /data/local/tmp/devlib-target/cgroups/devlib_cgh6\n",
      "2017-07-14 10:49:38,217 INFO    : CGroups      :   devices      : /data/local/tmp/devlib-target/cgroups/devlib_cgh6\n",
      "2017-07-14 10:49:38,220 DEBUG   : CGroup.freezer : Initialized [freezer, 6, ['blkio', 'devices', 'freezer', 'hugetlb', 'debug']]\n",
      "2017-07-14 10:49:38,369 DEBUG   : CGroup.freezer : Controller freezer mounted under: /data/local/tmp/devlib-target/cgroups/devlib_cgh6 (noprefix=False)\n",
      "2017-07-14 10:49:38,371 DEBUG   : cgroups.freezer : Creating cgroup /data/local/tmp/devlib-target/cgroups/devlib_cgh6\n",
      "2017-07-14 10:49:38,454 INFO    : CGroups      :   freezer      : /data/local/tmp/devlib-target/cgroups/devlib_cgh6\n",
      "2017-07-14 10:49:38,456 DEBUG   : CGroup.hugetlb : Initialized [hugetlb, 6, ['blkio', 'devices', 'freezer', 'hugetlb', 'debug']]\n",
      "2017-07-14 10:49:38,617 DEBUG   : CGroup.hugetlb : Controller hugetlb mounted under: /data/local/tmp/devlib-target/cgroups/devlib_cgh6 (noprefix=False)\n",
      "2017-07-14 10:49:38,618 DEBUG   : cgroups.hugetlb : Creating cgroup /data/local/tmp/devlib-target/cgroups/devlib_cgh6\n",
      "2017-07-14 10:49:38,691 INFO    : CGroups      :   hugetlb      : /data/local/tmp/devlib-target/cgroups/devlib_cgh6\n",
      "2017-07-14 10:49:38,694 DEBUG   : CGroup.debug : Initialized [debug, 6, ['blkio', 'devices', 'freezer', 'hugetlb', 'debug']]\n",
      "2017-07-14 10:49:38,831 DEBUG   : CGroup.debug : Controller debug mounted under: /data/local/tmp/devlib-target/cgroups/devlib_cgh6 (noprefix=False)\n",
      "2017-07-14 10:49:38,833 DEBUG   : cgroups.debug : Creating cgroup /data/local/tmp/devlib-target/cgroups/devlib_cgh6\n",
      "2017-07-14 10:49:38,910 INFO    : CGroups      :   debug        : /data/local/tmp/devlib-target/cgroups/devlib_cgh6\n",
      "2017-07-14 10:49:38,989 INFO    : TestEnv      : install_tools:\n",
      "\t tools is [set(['cpuidle_sampling.sh', 'trace-cmd'])]\n",
      "2017-07-14 10:49:38,994 INFO    : TestEnv      : \t __installed_tools is [set([])]\n",
      "2017-07-14 10:49:38,997 INFO    : TestEnv      : \t binary is [/data/lisa_remote/lisa/tools/scripts/cpuidle_sampling.sh]\n",
      "2017-07-14 10:49:38,999 INFO    : TestEnv      : \t binary is [/data/lisa_remote/lisa/tools/scripts/trace-cmd]\n",
      "2017-07-14 10:49:39,004 INFO    : TestEnv      : \t binary with abi is [/data/lisa_remote/lisa/tools/arm64/trace-cmd]\n",
      "2017-07-14 10:49:39,005 INFO    : TestEnv      : \t tool_to_install is [/data/lisa_remote/lisa/tools/scripts/cpuidle_sampling.sh]\n",
      "2017-07-14 10:49:39,393 INFO    : TestEnv      : \t tool_to_install is [/data/lisa_remote/lisa/tools/arm64/trace-cmd]\n",
      "2017-07-14 10:49:39,894 INFO    : TestEnv      : \t finally __installed_tools is [set(['cpuidle_sampling.sh', 'trace-cmd'])]\n",
      "2017-07-14 10:49:39,904 INFO    : TestEnv      : Topology:\n",
      "2017-07-14 10:49:39,905 INFO    : TestEnv      :    [[0, 1, 2, 3], [4, 5, 6, 7]]\n",
      "2017-07-14 10:49:40,215 INFO    : TestEnv      : Loading default EM:\n",
      "2017-07-14 10:49:40,217 INFO    : TestEnv      :    /data/lisa_remote/lisa/libs/utils/platforms/hikey960.json\n",
      "2017-07-14 10:49:40,219 DEBUG   : JsonConf     : loading JSON...\n",
      "2017-07-14 10:49:40,222 DEBUG   : JsonConf     : Loaded JSON configuration:\n",
      "2017-07-14 10:49:40,224 DEBUG   : JsonConf     :    {u'nrg_model': {u'big': {u'cluster': {u'nrg_max': 118}, u'cpu': {u'cap_max': 1024, u'nrg_max': 1715}}, u'little': {u'cluster': {u'nrg_max': 70}, u'cpu': {u'cap_max': 870, u'nrg_max': 1210}}}, u'board': {u'big_core': u'A73_1', u'cores': [u'A53_0', u'A53_0', u'A53_0', u'A53_0', u'A73_1', u'A73_1', u'A73_1', u'A73_1'], u'modules': [u'bl', u'cpufreq', u'cpuidle']}}\n",
      "2017-07-14 10:49:40,892 INFO    : TestEnv      : Enabled tracepoints:\n",
      "2017-07-14 10:49:40,894 INFO    : TestEnv      :    cpu_idle\n",
      "2017-07-14 10:49:40,896 INFO    : TestEnv      :    sched_switch\n",
      "2017-07-14 10:49:40,904 WARNING : TestEnv      : Wipe previous contents of the results folder:\n",
      "2017-07-14 10:49:40,905 WARNING : TestEnv      :    /data/lisa_remote/lisa/results/TestEnvExample_hikey960\n",
      "2017-07-14 10:49:41,000 INFO    : TestEnv      : Set results folder to:\n",
      "2017-07-14 10:49:41,002 INFO    : TestEnv      :    /data/lisa_remote/lisa/results/TestEnvExample_hikey960\n",
      "2017-07-14 10:49:41,004 INFO    : TestEnv      : Experiment results available also in:\n",
      "2017-07-14 10:49:41,005 INFO    : TestEnv      :    /data/lisa_remote/lisa/results_latest\n"
     ]
    }
   ],
   "source": [
    "from env import TestEnv\n",
    "\n",
    "# Initialize a test environment using the provided configuration\n",
    "te = TestEnv(conf)"
   ]
  },
  {
   "cell_type": "markdown",
   "metadata": {},
   "source": [
    "## Attributes"
   ]
  },
  {
   "cell_type": "markdown",
   "metadata": {},
   "source": [
    "The initialization of the test environment pre-initialize some useful<br>\n",
    "environment variables which are available to write test cases.\n",
    "\n",
    "These are some of the information available via the TestEnv object."
   ]
  },
  {
   "cell_type": "code",
   "execution_count": 9,
   "metadata": {
    "collapsed": false
   },
   "outputs": [
    {
     "name": "stdout",
     "output_type": "stream",
     "text": [
      "{\n",
      "    \"username\": \"root\", \n",
      "    \"platform\": \"android\", \n",
      "    \"ftrace\": {\n",
      "        \"buffsize\": 10240, \n",
      "        \"events\": [\n",
      "            \"cpu_idle\", \n",
      "            \"sched_switch\"\n",
      "        ]\n",
      "    }, \n",
      "    \"board\": \"hikey960\", \n",
      "    \"__features__\": [], \n",
      "    \"modules\": [\n",
      "        \"cpufreq\", \n",
      "        \"cgroups\"\n",
      "    ], \n",
      "    \"tftp\": {\n",
      "        \"kernel\": \"kern.bin\", \n",
      "        \"folder\": \"/var/lib/tftpboot\", \n",
      "        \"dtb\": \"dtb.bin\"\n",
      "    }, \n",
      "    \"password\": \"\", \n",
      "    \"tools\": [\n",
      "        \"cpuidle_sampling.sh\"\n",
      "    ], \n",
      "    \"results_dir\": \"TestEnvExample_hikey960\"\n",
      "}\n"
     ]
    }
   ],
   "source": [
    "# The complete configuration of the target we have configured\n",
    "print json.dumps(te.conf, indent=4)"
   ]
  },
  {
   "cell_type": "code",
   "execution_count": 10,
   "metadata": {
    "collapsed": false
   },
   "outputs": [
    {
     "name": "stdout",
     "output_type": "stream",
     "text": [
      "None\n",
      "None\n"
     ]
    }
   ],
   "source": [
    "# Last configured kernel and DTB image\n",
    "print te.kernel\n",
    "print te.dtb"
   ]
  },
  {
   "cell_type": "code",
   "execution_count": 11,
   "metadata": {
    "collapsed": false
   },
   "outputs": [
    {
     "name": "stdout",
     "output_type": "stream",
     "text": [
      "None\n",
      "None\n"
     ]
    }
   ],
   "source": [
    "# The IP and MAC address of the target\n",
    "print te.ip\n",
    "print te.mac"
   ]
  },
  {
   "cell_type": "code",
   "execution_count": 12,
   "metadata": {
    "collapsed": false
   },
   "outputs": [
    {
     "name": "stdout",
     "output_type": "stream",
     "text": [
      "{\n",
      "    \"kernel\": {\n",
      "        \"version_number\": 4, \n",
      "        \"sha1\": \"679a543\", \n",
      "        \"major\": 4, \n",
      "        \"parts\": [\n",
      "            4, \n",
      "            4, \n",
      "            59\n",
      "        ], \n",
      "        \"version\": \"2507 SMP PREEMPT Tue Apr 11 09:52:10 PDT 2017\", \n",
      "        \"rc\": null, \n",
      "        \"release\": \"4.4.59-02536-g679a543\", \n",
      "        \"minor\": 59\n",
      "    }, \n",
      "    \"abi\": \"arm64\", \n",
      "    \"freqs\": {\n",
      "        \"big\": [\n",
      "            903000, \n",
      "            1421000, \n",
      "            1805000, \n",
      "            2112000, \n",
      "            2362000\n",
      "        ], \n",
      "        \"little\": [\n",
      "            533000, \n",
      "            999000, \n",
      "            1402000, \n",
      "            1709000, \n",
      "            1844000\n",
      "        ]\n",
      "    }, \n",
      "    \"nrg_model\": {\n",
      "        \"big\": {\n",
      "            \"cluster\": {\n",
      "                \"nrg_max\": 118\n",
      "            }, \n",
      "            \"cpu\": {\n",
      "                \"cap_max\": 1024, \n",
      "                \"nrg_max\": 1715\n",
      "            }\n",
      "        }, \n",
      "        \"little\": {\n",
      "            \"cluster\": {\n",
      "                \"nrg_max\": 70\n",
      "            }, \n",
      "            \"cpu\": {\n",
      "                \"cap_max\": 870, \n",
      "                \"nrg_max\": 1210\n",
      "            }\n",
      "        }\n",
      "    }, \n",
      "    \"clusters\": {\n",
      "        \"big\": [\n",
      "            4, \n",
      "            5, \n",
      "            6, \n",
      "            7\n",
      "        ], \n",
      "        \"little\": [\n",
      "            0, \n",
      "            1, \n",
      "            2, \n",
      "            3\n",
      "        ]\n",
      "    }, \n",
      "    \"cpus_count\": 8, \n",
      "    \"os\": \"android\", \n",
      "    \"topology\": [\n",
      "        [\n",
      "            0, \n",
      "            1, \n",
      "            2, \n",
      "            3\n",
      "        ], \n",
      "        [\n",
      "            4, \n",
      "            5, \n",
      "            6, \n",
      "            7\n",
      "        ]\n",
      "    ]\n",
      "}\n"
     ]
    }
   ],
   "source": [
    "# A full platform descriptor\n",
    "print json.dumps(te.platform, indent=4)"
   ]
  },
  {
   "cell_type": "code",
   "execution_count": 13,
   "metadata": {
    "collapsed": false
   },
   "outputs": [
    {
     "data": {
      "text/plain": [
       "'/data/lisa_remote/lisa/results/TestEnvExample_hikey960'"
      ]
     },
     "execution_count": 13,
     "metadata": {},
     "output_type": "execute_result"
    }
   ],
   "source": [
    "# A pre-created folder to host the tests results generated using this\n",
    "# test environment, notice that the suite could add additional information\n",
    "# in this folder, like for example a copy of the target configuration\n",
    "# and other target specific collected information\n",
    "te.res_dir"
   ]
  },
  {
   "cell_type": "code",
   "execution_count": 14,
   "metadata": {
    "collapsed": false
   },
   "outputs": [
    {
     "data": {
      "text/plain": [
       "'/data/local/schedtest'"
      ]
     },
     "execution_count": 14,
     "metadata": {},
     "output_type": "execute_result"
    }
   ],
   "source": [
    "# The working directory on the target\n",
    "te.workdir"
   ]
  },
  {
   "cell_type": "markdown",
   "metadata": {},
   "source": [
    "## Functions"
   ]
  },
  {
   "cell_type": "markdown",
   "metadata": {},
   "source": [
    "Some methods are also exposed to test developers which could be used to easy\n",
    "the creation of tests.\n",
    "\n",
    "These are some of the methods available:"
   ]
  },
  {
   "cell_type": "code",
   "execution_count": 15,
   "metadata": {
    "collapsed": false,
    "scrolled": true
   },
   "outputs": [],
   "source": [
    "# Calibrate RT-App (if required) and get the most updated calibration value\n",
    "te.calibration()"
   ]
  },
  {
   "cell_type": "code",
   "execution_count": 16,
   "metadata": {
    "collapsed": false
   },
   "outputs": [
    {
     "data": {
      "text/plain": [
       "({'abi': 'arm64',\n",
       "  'clusters': {'big': [4, 5, 6, 7], 'little': [0, 1, 2, 3]},\n",
       "  'cpus_count': 8,\n",
       "  'freqs': {'big': [903000, 1421000, 1805000, 2112000, 2362000],\n",
       "   'little': [533000, 999000, 1402000, 1709000, 1844000]},\n",
       "  'kernel': {'major': 4,\n",
       "   'minor': 59,\n",
       "   'parts': (4, 4, 59),\n",
       "   'rc': None,\n",
       "   'release': '4.4.59-02536-g679a543',\n",
       "   'sha1': '679a543',\n",
       "   'version': '2507 SMP PREEMPT Tue Apr 11 09:52:10 PDT 2017',\n",
       "   'version_number': 4},\n",
       "  'nrg_model': {u'big': {u'cluster': {u'nrg_max': 118},\n",
       "    u'cpu': {u'cap_max': 1024, u'nrg_max': 1715}},\n",
       "   u'little': {u'cluster': {u'nrg_max': 70},\n",
       "    u'cpu': {u'cap_max': 870, u'nrg_max': 1210}}},\n",
       "  'os': 'android',\n",
       "  'topology': [[0, 1, 2, 3], [4, 5, 6, 7]]},\n",
       " '/tmp/platform.json')"
      ]
     },
     "execution_count": 16,
     "metadata": {},
     "output_type": "execute_result"
    }
   ],
   "source": [
    "# Generate a JSON file with the complete platform description\n",
    "te.platform_dump(dest_dir='/tmp')"
   ]
  },
  {
   "cell_type": "code",
   "execution_count": 17,
   "metadata": {
    "collapsed": false,
    "scrolled": true
   },
   "outputs": [],
   "source": [
    "# Force a reboot of the target (and wait specified [s] before reconnect)\n",
    "# te.reboot(reboot_time=60, ping_time=15)"
   ]
  },
  {
   "cell_type": "code",
   "execution_count": 18,
   "metadata": {
    "collapsed": false
   },
   "outputs": [],
   "source": [
    "# Resolve a MAC address into an IP address\n",
    "# te.resolv_host(host='00:02:F7:00:5A:5B')"
   ]
  },
  {
   "cell_type": "code",
   "execution_count": 19,
   "metadata": {
    "collapsed": false
   },
   "outputs": [],
   "source": [
    "# Copy the specified file into the TFTP server folder defined by configuration\n",
    "#te.tftp_deploy('/etc/group')"
   ]
  },
  {
   "cell_type": "code",
   "execution_count": 20,
   "metadata": {
    "collapsed": false
   },
   "outputs": [],
   "source": [
    "#!ls -la /var/lib/tftpboot"
   ]
  },
  {
   "cell_type": "markdown",
   "metadata": {},
   "source": [
    "# Access to the devlib API"
   ]
  },
  {
   "cell_type": "markdown",
   "metadata": {},
   "source": [
    "A special TestEnv attribute is <b>target</b>, which represents a <b>devlib instance</b>.\n",
    "Using the target attribute we can access to the full set of devlib provided\n",
    "functionalities. Which are summarized in the following sections."
   ]
  },
  {
   "cell_type": "markdown",
   "metadata": {},
   "source": [
    "## Remotes commands execution"
   ]
  },
  {
   "cell_type": "code",
   "execution_count": 21,
   "metadata": {
    "collapsed": false
   },
   "outputs": [
    {
     "data": {
      "text/plain": [
       "'Hello Test Environment'"
      ]
     },
     "execution_count": 21,
     "metadata": {},
     "output_type": "execute_result"
    }
   ],
   "source": [
    "# Run a command on the target\n",
    "te.target.execute(\"echo -n 'Hello Test Environment'\", as_root=False)"
   ]
  },
  {
   "cell_type": "code",
   "execution_count": 22,
   "metadata": {
    "collapsed": false
   },
   "outputs": [
    {
     "name": "stderr",
     "output_type": "stream",
     "text": [
      "2017-07-14 10:50:25,806 INFO    : root         : Spawn a task which will run for a while...\n",
      "2017-07-14 10:50:26,823 DEBUG   : check_output : 16001 timed out; sending SIGKILL\n"
     ]
    }
   ],
   "source": [
    "# Spawn a command in background on the target\n",
    "logging.info(\"Spawn a task which will run for a while...\")\n",
    "process = te.target.kick_off(\"sleep 10\", as_root=True)"
   ]
  },
  {
   "cell_type": "code",
   "execution_count": 23,
   "metadata": {
    "collapsed": false
   },
   "outputs": [
    {
     "name": "stdout",
     "output_type": "stream",
     "text": [
      "USER           PID  PPID     VSZ    RSS WCHAN            ADDR S NAME                       \n",
      "root             1     0   13692   5584 0                   0 S init\n",
      "root             2     0       0      0 0                   0 S [kthreadd]\n",
      "root             3     2       0      0 0                   0 S [ksoftirqd/0]\n",
      "root             5     2       0      0 0                   0 S [kworker/0:0H]\n",
      "root             7     2       0      0 0                   0 S [rcu_preempt]\n",
      "root             8     2       0      0 0                   0 S [rcu_sched]\n",
      "root             9     2       0      0 0                   0 S [rcu_bh]\n",
      "root            10     2       0      0 0                   0 S [migration/0]\n",
      "root            11     2       0      0 0                   0 S [watchdog/0]\n",
      "root            12     2       0      0 0                   0 S [watchdog/1]\n",
      "root            13     2       0      0 0                   0 S [migration/1]\n",
      "root            14     2       0      0 0                   0 S [ksoftirqd/1]\n",
      "root            15     2       0      0 0                   0 S [kworker/1:0]\n",
      "root            16     2       0      0 0                   0 S [kworker/1:0H]\n",
      "root            17     2       0      0 0                   0 S [watchdog/2]\n",
      "root            18     2       0      0 0                   0 S [migration/2]\n",
      "root            19     2       0      0 0                   0 S [ksoftirqd/2]\n",
      "root            20     2       0      0 0                   0 S [kworker/2:0]\n",
      "root            21     2       0      0 0                   0 S [kworker/2:0H]\n",
      "root            22     2       0      0 0                   0 S [watchdog/3]\n",
      "root            23     2       0      0 0                   0 S [migration/3]\n",
      "root            24     2       0      0 0                   0 S [ksoftirqd/3]\n",
      "root            25     2       0      0 0                   0 S [kworker/3:0]\n",
      "root            26     2       0      0 0                   0 S [kworker/3:0H]\n",
      "root            27     2       0      0 0                   0 S [watchdog/4]\n",
      "root            28     2       0      0 0                   0 S [migration/4]\n",
      "root            29     2       0      0 0                   0 S [ksoftirqd/4]\n",
      "root            31     2       0      0 0                   0 S [kworker/4:0H]\n",
      "root            32     2       0      0 0                   0 S [watchdog/5]\n",
      "root            33     2       0      0 0                   0 S [migration/5]\n",
      "root            34     2       0      0 0                   0 S [ksoftirqd/5]\n",
      "root            35     2       0      0 0                   0 S [kworker/5:0]\n",
      "root            36     2       0      0 0                   0 S [kworker/5:0H]\n",
      "root            37     2       0      0 0                   0 S [watchdog/6]\n",
      "root            38     2       0      0 0                   0 S [migration/6]\n",
      "root            39     2       0      0 0                   0 S [ksoftirqd/6]\n",
      "root            41     2       0      0 0                   0 S [kworker/6:0H]\n",
      "root            42     2       0      0 0                   0 S [watchdog/7]\n",
      "root            43     2       0      0 0                   0 S [migration/7]\n",
      "root            44     2       0      0 0                   0 S [ksoftirqd/7]\n",
      "root            45     2       0      0 0                   0 S [kworker/7:0]\n",
      "root            46     2       0      0 0                   0 S [kworker/7:0H]\n",
      "root            47     2       0      0 0                   0 S [netns]\n",
      "root            50     2       0      0 0                   0 S [perf]\n",
      "root           591     2       0      0 0                   0 S [khungtaskd]\n",
      "root           592     2       0      0 0                   0 S [writeback]\n",
      "root           594     2       0      0 0                   0 S [kworker/0:1]\n",
      "root           595     2       0      0 0                   0 S [ksmd]\n",
      "root           597     2       0      0 0                   0 S [crypto]\n",
      "root           598     2       0      0 0                   0 S [bioset]\n",
      "root           600     2       0      0 0                   0 S [kblockd]\n",
      "root           611     2       0      0 0                   0 S [ata_sff]\n",
      "root           638     2       0      0 0                   0 S [sys_heap]\n",
      "root           639     2       0      0 0                   0 S [carveout_grallo]\n",
      "root           644     2       0      0 0                   0 S [devfreq_wq]\n",
      "root           655     2       0      0 0                   0 S [cfg80211]\n",
      "root           743     2       0      0 0                   0 S [rpciod]\n",
      "root           788     2       0      0 0                   0 S [kswapd0]\n",
      "root           789     2       0      0 0                   0 S [vmstat]\n",
      "root           790     2       0      0 0                   0 S [fsnotify_mark]\n",
      "root           791     2       0      0 0                   0 S [SquashFS read w]\n",
      "root           792     2       0      0 0                   0 S [nfsiod]\n",
      "root           965     2       0      0 0                   0 S [bioset]\n",
      "root           966     2       0      0 0                   0 S [bioset]\n",
      "root           967     2       0      0 0                   0 S [bioset]\n",
      "root           968     2       0      0 0                   0 S [bioset]\n",
      "root           969     2       0      0 0                   0 S [bioset]\n",
      "root           970     2       0      0 0                   0 S [bioset]\n",
      "root           971     2       0      0 0                   0 S [bioset]\n",
      "root           972     2       0      0 0                   0 S [bioset]\n",
      "root           973     2       0      0 0                   0 S [bioset]\n",
      "root           974     2       0      0 0                   0 S [bioset]\n",
      "root           975     2       0      0 0                   0 S [bioset]\n",
      "root           976     2       0      0 0                   0 S [bioset]\n",
      "root           977     2       0      0 0                   0 S [bioset]\n",
      "root           978     2       0      0 0                   0 S [bioset]\n",
      "root           979     2       0      0 0                   0 S [bioset]\n",
      "root           980     2       0      0 0                   0 S [bioset]\n",
      "root          1015     2       0      0 0                   0 S [bioset]\n",
      "root          1018     2       0      0 0                   0 S [bioset]\n",
      "root          1021     2       0      0 0                   0 S [bioset]\n",
      "root          1024     2       0      0 0                   0 S [bioset]\n",
      "root          1027     2       0      0 0                   0 S [bioset]\n",
      "root          1030     2       0      0 0                   0 S [bioset]\n",
      "root          1033     2       0      0 0                   0 S [bioset]\n",
      "root          1036     2       0      0 0                   0 S [bioset]\n",
      "root          1043     2       0      0 0                   0 S [hci1]\n",
      "root          1044     2       0      0 0                   0 S [hci1]\n",
      "root          1068     2       0      0 0                   0 S [scsi_eh_0]\n",
      "root          1069     2       0      0 0                   0 S [scsi_tmf_0]\n",
      "root          1111     2       0      0 0                   0 S [kworker/3:1]\n",
      "root          1153     2       0      0 0                   0 S [kworker/2:1]\n",
      "root          1155     2       0      0 0                   0 S [uether]\n",
      "root          1158     2       0      0 0                   0 S [pd_dpm_usb_wq]\n",
      "root          1165     2       0      0 0                   0 S [kpsmoused]\n",
      "root          1190     2       0      0 0                   0 S [dm_bufio_cache]\n",
      "root          1191     2       0      0 0                   0 S [hci0]\n",
      "root          1192     2       0      0 0                   0 S [hci0]\n",
      "root          1196     2       0      0 0                   0 S [cfinteractive]\n",
      "root          1199     2       0      0 0                   0 D [kschedfreq:0]\n",
      "root          1200     2       0      0 0                   0 S [kschedfreq:4]\n",
      "root          1207     2       0      0 0                   0 S [kworker/1:2]\n",
      "root          1208     2       0      0 0                   0 S [irq/261-ff37f00]\n",
      "root          1276     2       0      0 0                   0 S [binder]\n",
      "root          1277     2       0      0 0                   0 S [hwbinder]\n",
      "root          1295     2       0      0 0                   0 S [ipv6_addrconf]\n",
      "root          1299     2       0      0 0                   0 S [krfcommd]\n",
      "root          1307     2       0      0 0                   0 S [bioset]\n",
      "root          1313     2       0      0 0                   0 S [deferwq]\n",
      "root          1314     2       0      0 0                   0 S [kworker/4:1]\n",
      "root          1318     2       0      0 0                   0 S [kworker/5:1]\n",
      "root          1319     2       0      0 0                   0 S [kworker/6:1]\n",
      "root          1320     2       0      0 0                   0 S [bioset]\n",
      "root          1324     2       0      0 0                   0 S [bioset]\n",
      "root          1327     2       0      0 0                   0 S [bioset]\n",
      "root          1330     2       0      0 0                   0 S [bioset]\n",
      "root          1334     2       0      0 0                   0 S [bioset]\n",
      "root          1338     2       0      0 0                   0 S [bioset]\n",
      "root          1345     2       0      0 0                   0 S [bioset]\n",
      "root          1371     2       0      0 0                   0 S [kworker/7:1]\n",
      "root          1384     2       0      0 0                   0 S [tcpc_timer_type]\n",
      "root          1385     2       0      0 0                   0 S [tcpc_event_type]\n",
      "root          1386     2       0      0 0                   0 S [type_c_port0]\n",
      "root          1397     2       0      0 0                   0 S [irq/67-2-0039]\n",
      "root          1428     2       0      0 0                   0 S [wl12xx_wq]\n",
      "root          1430     1    9272   7760 0                   0 S ueventd\n",
      "root          1922     2       0      0 0                   0 S [kworker/0:1H]\n",
      "root          1923     2       0      0 0                   0 S [jbd2/sdd10-8]\n",
      "root          1924     2       0      0 0                   0 S [ext4-rsv-conver]\n",
      "root          1925     2       0      0 0                   0 S [kworker/4:1H]\n",
      "root          1929     2       0      0 0                   0 S [kworker/5:1H]\n",
      "root          1930     2       0      0 0                   0 S [jbd2/sdd5-8]\n",
      "root          1931     2       0      0 0                   0 S [ext4-rsv-conver]\n",
      "root          1935     2       0      0 0                   0 S [kworker/6:1H]\n",
      "root          1936     2       0      0 0                   0 S [jbd2/sdd13-8]\n",
      "root          1937     2       0      0 0                   0 S [ext4-rsv-conver]\n",
      "logd          1938     1   17900   4132 0                   0 S logd\n",
      "system        1939     1   13924   5312 0                   0 S hwservicemanager\n",
      "root          1942     1   26736  10656 0                   0 S vold\n",
      "root          1946     2       0      0 0                   0 S [kauditd]\n",
      "system        1995     1   11820   3620 0                   0 S android.hidl.allocator@1.0-service\n",
      "system        1999     1   11824   3604 0                   0 S android.hardware.configstore@1.0-service\n",
      "wifi          2000     1   14984   5668 0                   0 S android.hardware.wifi@1.0-service\n",
      "root          2001     1    6492    652 0                   0 S healthd\n",
      "root          2002     1    8880   2740 0                   0 S lmkd\n",
      "system        2003     1   10220   3312 0                   0 S servicemanager\n",
      "system        2004     1  424752  36692 0                   0 S surfaceflinger\n",
      "root          2008     2       0      0 0                   0 S [f_mtp]\n",
      "root          2015     2       0      0 0                   0 S [kbase_event]\n",
      "root          2031     2       0      0 0                   0 S [irq/237-wl18xx]\n",
      "shell         2044     1   15464   3188 0                   0 S adbd\n",
      "bluetooth     2045     1    8492   1916 0                   0 S uim\n",
      "root          2046     1 2125696 116528 0                   0 S zygote64\n",
      "root          2047     1 1569564 104248 0                   0 S zygote\n",
      "audioserver   2048     1   15100   6896 0                   0 S media.log\n",
      "cameraserver  2049     1   14732   6256 0                   0 S cameraserver\n",
      "drm           2050     1   14500   6300 0                   0 S drmserver\n",
      "root          2051     1   17720   6076 0                   0 S installd\n",
      "keystore      2053     1   13416   4536 0                   0 S keystore\n",
      "mediacodec    2058     1   19132   7728 0                   0 S media.codec\n",
      "media         2059     1   15924   6792 0                   0 S mediadrmserver\n",
      "mediaex       2060     1   43168   9136 0                   0 S media.extractor\n",
      "media         2061     1   43164   8644 0                   0 S mediaserver\n",
      "root          2062     1   25956   4632 0                   0 S netd\n",
      "wifi          2063     1   13032   4808 0                   0 S wificond\n",
      "system        2064     1   13096   4212 0                   0 S gatekeeperd\n",
      "tombstoned    2065     1    8860   2048 0                   0 S tombstoned\n",
      "root          2068  2062    9288   2984 0                   0 S iptables-restore\n",
      "root          2069     2       0      0 0                   0 S [kworker/7:1H]\n",
      "root          2070  2062    9304   3000 0                   0 S ip6tables-restore\n",
      "audioserver   2080  2048   24620   7352 0                   0 S audioserver\n",
      "root          2102     2       0      0 0                   0 S [kworker/0:2]\n",
      "system        2115  2046 2334188 172704 0                   0 S system_server\n",
      "root          2147     2       0      0 0                   0 S [kworker/1:1H]\n",
      "root          2259     2       0      0 0                   0 S [kbase_event]\n",
      "u0_a41        2282  2046 2211920  82976 0                   0 S com.android.inputmethod.latin\n",
      "u0_a21        2295  2046 2725496 203736 0                   0 S com.android.systemui\n",
      "media_rw      2302  1942   14976   3496 0                   0 S sdcard\n",
      "wifi          2368     1   18392   8684 0                   0 S wpa_supplicant\n",
      "radio         2434  2046 2219296  90556 0                   0 S com.android.phone\n",
      "system        2450  2046 2268492  98276 0                   0 S com.android.settings\n",
      "root          2531     2       0      0 0                   0 S [kbase_event]\n",
      "u0_a8         2580  2046 2195716  58792 0                   0 S android.ext.services\n",
      "u0_a34        2605  2046 2210556  73060 0                   0 S com.android.deskclock\n",
      "u0_a51        2644  2046 2195804  56088 0                   0 S com.android.smspush\n",
      "u0_a10        2657  2046 2854812 142228 0                   0 S com.android.launcher\n",
      "u0_a1         2690  2046 2208444  80768 0                   0 S android.process.acore\n",
      "root          2712     2       0      0 0                   0 S [kbase_event]\n",
      "u0_a7         2727  2046 2207820  80608 0                   0 S android.process.media\n",
      "root          2746     2       0      0 0                   0 S [kbase_event]\n",
      "root          2763     2       0      0 0                   0 S [kworker/2:1H]\n",
      "root          2765     2       0      0 0                   0 S [kworker/3:1H]\n",
      "u0_a29        2795  2046 2207004  68272 0                   0 S com.android.calendar\n",
      "u0_a36        2818  2046 2218944  76340 0                   0 S com.android.email\n",
      "u0_a2         2834  2046 2201160  67528 0                   0 S com.android.providers.calendar\n",
      "u0_a11        2858  2046 2199256  58756 0                   0 S com.android.managedprovisioning\n",
      "u0_a14        2876  2046 2197708  58488 0                   0 S com.android.onetimeinitializer\n",
      "root          2935     2       0      0 0                   0 S [kworker/4:2]\n",
      "bluetooth     2940     1   11948   2936 0                   0 S android.hardware.bluetooth@1.0-service.hikey\n",
      "root          2943     2       0      0 0                   0 S [kworker/6:2]\n",
      "root          3395     2       0      0 0                   0 S [kworker/u16:2]\n",
      "root          4630     2       0      0 0                   0 S [kworker/u17:0]\n",
      "root          5219     2       0      0 0                   0 S [kworker/u17:1]\n",
      "root          5220     2       0      0 0                   0 S [kworker/u16:0]\n",
      "root          5264     2       0      0 0                   0 S [kworker/u16:1]\n",
      "root          5510     2       0      0 0                   0 S [kworker/u17:2]\n",
      "root          5520     1    8764   1276 0                   0 S sh\n",
      "root          5521  5520   10188   2560 0                   0 S sleep\n",
      "shell         5522  2044    8764   2128 sigsuspend 7fb7cec618 S sh\n",
      "shell         5524  5522   10188   2584 0          7fb7cb0f78 R ps\n"
     ]
    }
   ],
   "source": [
    "output = te.target.execute(\"ps\")\n",
    "print '\\n'.join(output.splitlines())"
   ]
  },
  {
   "cell_type": "markdown",
   "metadata": {},
   "source": [
    "Notice that _the Shell PID is always the same_ for all commands we execute.<br>\n",
    "This is due to devlib ensuring to keep a **persistent connection** with the target device."
   ]
  },
  {
   "cell_type": "markdown",
   "metadata": {},
   "source": [
    "## Running custom scripts"
   ]
  },
  {
   "cell_type": "code",
   "execution_count": 24,
   "metadata": {
    "collapsed": false
   },
   "outputs": [
    {
     "name": "stdout",
     "output_type": "stream",
     "text": [
      "/data/local/tmp/bin/cpuidle_sampling.sh\n"
     ]
    }
   ],
   "source": [
    "my_script = te.target.get_installed(\"cpuidle_sampling.sh\")\n",
    "print my_script"
   ]
  },
  {
   "cell_type": "code",
   "execution_count": 25,
   "metadata": {
    "collapsed": false
   },
   "outputs": [
    {
     "data": {
      "text/plain": [
       "['#         Time          idle0          idle1 ',\n",
       " '    1500000636             12             30 ',\n",
       " '    1500000638             28             29 ',\n",
       " '    1500000639             12             29 ']"
      ]
     },
     "execution_count": 25,
     "metadata": {},
     "output_type": "execute_result"
    }
   ],
   "source": [
    "output = te.target.execute(my_script, as_root=True)\n",
    "output.splitlines()"
   ]
  },
  {
   "cell_type": "markdown",
   "metadata": {},
   "source": [
    "Notice that the output is returned as a **list of lines**. This provides a useful base for post-processing the output of that command."
   ]
  },
  {
   "cell_type": "code",
   "execution_count": 26,
   "metadata": {
    "code_folding": [],
    "collapsed": false
   },
   "outputs": [],
   "source": [
    "# We can also use \"notebook embedded\" scripts\n",
    "# my_script = \" \\\n",
    "# for I in $(seq 3); do \\\n",
    "#     grep '' /sys/devices/system/cpu/cpu*/cpufreq/stats/time_in_stats | \\\n",
    "#     sed -e 's|/sys/devices/system/cpu/cpu||' -e 's|/cpufreq/scaling_governor:| |' \\\n",
    "#     sleep 1 \\\n",
    "# done \\\n",
    "# \""
   ]
  },
  {
   "cell_type": "code",
   "execution_count": 27,
   "metadata": {
    "collapsed": false
   },
   "outputs": [],
   "source": [
    "# print te.target.execute(my_script)"
   ]
  },
  {
   "cell_type": "markdown",
   "metadata": {},
   "source": [
    "## Access to target specific attributes"
   ]
  },
  {
   "cell_type": "code",
   "execution_count": 28,
   "metadata": {
    "collapsed": false
   },
   "outputs": [
    {
     "name": "stdout",
     "output_type": "stream",
     "text": [
      "ABI                 :  arm64\n",
      "big Core Family     :  A73\n",
      "LITTLE Core Family  :  A53\n",
      "CPU's Clusters IDs  :  [0, 0, 0, 0, 1, 1, 1, 1]\n",
      "CPUs type           :  ['A53', 'A53', 'A53', 'A53', 'A73', 'A73', 'A73', 'A73']\n"
     ]
    }
   ],
   "source": [
    "# Acces to many target specific information\n",
    "print \"ABI                 : \", te.target.abi\n",
    "print \"big Core Family     : \", te.target.big_core\n",
    "print \"LITTLE Core Family  : \", te.target.little_core\n",
    "print \"CPU's Clusters IDs  : \", te.target.core_clusters\n",
    "print \"CPUs type           : \", te.target.core_names"
   ]
  },
  {
   "cell_type": "code",
   "execution_count": 31,
   "metadata": {
    "collapsed": false
   },
   "outputs": [
    {
     "name": "stdout",
     "output_type": "stream",
     "text": [
      "LITTLE CPUs IDs     :  [0, 1, 2, 3]\n",
      "LITTLE CPUs freqs      : 533000\n",
      "LITTLE CPUs governor   : sched\n",
      "\n",
      "big CPUs IDs        :  [4, 5, 6, 7]\n",
      "big CPUs freqs      : 903000\n",
      "big CPUs governor   : sched\n"
     ]
    }
   ],
   "source": [
    "# Access to big.LITTLE specific information\n",
    "\n",
    "print \"LITTLE CPUs IDs     : \", te.target.bl.littles\n",
    "print \"LITTLE CPUs freqs      : {}\".format(te.target.bl.get_littles_frequency())\n",
    "print \"LITTLE CPUs governor   : {}\\n\".format(te.target.bl.get_littles_governor())\n",
    "\n",
    "print \"big CPUs IDs        : \", te.target.bl.bigs\n",
    "print \"big CPUs freqs      : {}\".format(te.target.bl.get_bigs_frequency())\n",
    "print \"big CPUs governor   : {}\".format(te.target.bl.get_bigs_governor())"
   ]
  },
  {
   "cell_type": "markdown",
   "metadata": {},
   "source": [
    "## Modules usage example: CPUFreq"
   ]
  },
  {
   "cell_type": "code",
   "execution_count": 38,
   "metadata": {
    "collapsed": false
   },
   "outputs": [
    {
     "data": {
      "text/plain": [
       "{'0': 'ondemand',\n",
       " '1': 'ondemand',\n",
       " '2': 'ondemand',\n",
       " '3': 'ondemand',\n",
       " '4': 'sched',\n",
       " '5': 'sched',\n",
       " '6': 'sched',\n",
       " '7': 'sched'}"
      ]
     },
     "execution_count": 38,
     "metadata": {},
     "output_type": "execute_result"
    }
   ],
   "source": [
    "# You can use autocompletion to have a look at the supported method for a\n",
    "# specific module\n",
    "te.target.cpufreq.get_all_governors()"
   ]
  },
  {
   "cell_type": "code",
   "execution_count": 34,
   "metadata": {
    "collapsed": false
   },
   "outputs": [
    {
     "data": {
      "text/plain": [
       "['interactive', 'ondemand', 'userspace', 'performance', 'sched']"
      ]
     },
     "execution_count": 34,
     "metadata": {},
     "output_type": "execute_result"
    }
   ],
   "source": [
    "# Get goverors available for CPU0\n",
    "te.target.cpufreq.list_governors(0)"
   ]
  },
  {
   "cell_type": "code",
   "execution_count": 35,
   "metadata": {
    "collapsed": false
   },
   "outputs": [],
   "source": [
    "# Set the \"ondemand\" governor\n",
    "te.target.cpufreq.set_governor(0, 'ondemand')"
   ]
  },
  {
   "cell_type": "code",
   "execution_count": 36,
   "metadata": {
    "collapsed": false
   },
   "outputs": [
    {
     "data": {
      "text/plain": [
       "{'ignore_nice_load': '0',\n",
       " 'io_is_busy': '0',\n",
       " 'powersave_bias': '0',\n",
       " 'sampling_down_factor': '1',\n",
       " 'sampling_rate': '300000',\n",
       " 'sampling_rate_min': '10000',\n",
       " 'up_threshold': '95'}"
      ]
     },
     "execution_count": 36,
     "metadata": {},
     "output_type": "execute_result"
    }
   ],
   "source": [
    "# Check governor tunables\n",
    "te.target.cpufreq.get_governor_tunables(0)"
   ]
  },
  {
   "cell_type": "code",
   "execution_count": 39,
   "metadata": {
    "collapsed": false
   },
   "outputs": [
    {
     "data": {
      "text/plain": [
       "{'ignore_nice_load': '0',\n",
       " 'io_is_busy': '0',\n",
       " 'powersave_bias': '0',\n",
       " 'sampling_down_factor': '1',\n",
       " 'sampling_rate': '2000000',\n",
       " 'sampling_rate_min': '10000',\n",
       " 'up_threshold': '95'}"
      ]
     },
     "execution_count": 39,
     "metadata": {},
     "output_type": "execute_result"
    }
   ],
   "source": [
    "# Update governor tunables\n",
    "te.target.cpufreq.set_governor_tunables(0, sampling_rate=2000000)\n",
    "te.target.cpufreq.get_governor_tunables(0)"
   ]
  },
  {
   "cell_type": "markdown",
   "metadata": {},
   "source": [
    "## Modules usage example: CGroups"
   ]
  },
  {
   "cell_type": "code",
   "execution_count": 41,
   "metadata": {
    "collapsed": false
   },
   "outputs": [
    {
     "name": "stderr",
     "output_type": "stream",
     "text": [
      "2017-07-14 10:54:13,559 INFO    : root         :         CGroup - Available controllers:\n"
     ]
    },
    {
     "name": "stdout",
     "output_type": "stream",
     "text": [
      "cpuset     (hierarchy id: 5) has 6 cgroups\n",
      "cpu        (hierarchy id: 4) has 1 cgroups\n",
      "cpuacct    (hierarchy id: 1) has 84 cgroups\n",
      "schedtune  (hierarchy id: 2) has 4 cgroups\n",
      "blkio      (hierarchy id: 6) has 1 cgroups\n",
      "memory     (hierarchy id: 3) has 2 cgroups\n",
      "devices    (hierarchy id: 6) has 1 cgroups\n",
      "freezer    (hierarchy id: 6) has 1 cgroups\n",
      "hugetlb    (hierarchy id: 6) has 1 cgroups\n",
      "debug      (hierarchy id: 6) has 1 cgroups\n"
     ]
    }
   ],
   "source": [
    "logging.info('%14s - Available controllers:', 'CGroup')\n",
    "ssys = te.target.cgroups.list_subsystems()\n",
    "for (n,h,g,e) in ssys:\n",
    "    print '{:10} (hierarchy id: {:d}) has {} cgroups'.format(n, h, g)"
   ]
  },
  {
   "cell_type": "code",
   "execution_count": 42,
   "metadata": {
    "collapsed": true
   },
   "outputs": [],
   "source": [
    "# Get a reference to the CPUSet controller\n",
    "cpuset = te.target.cgroups.controller('cpuset')"
   ]
  },
  {
   "cell_type": "code",
   "execution_count": 43,
   "metadata": {
    "collapsed": false
   },
   "outputs": [
    {
     "name": "stderr",
     "output_type": "stream",
     "text": [
      "2017-07-14 10:54:28,328 DEBUG   : CGroup.cpuset : Listing groups for cpuset controller\n",
      "2017-07-14 10:54:28,447 DEBUG   : CGroup.cpuset : Populate cpuset cgroup: /\n",
      "2017-07-14 10:54:28,449 DEBUG   : CGroup.cpuset : Populate cpuset cgroup: /system-background\n",
      "2017-07-14 10:54:28,450 DEBUG   : CGroup.cpuset : Populate cpuset cgroup: /background\n",
      "2017-07-14 10:54:28,451 DEBUG   : CGroup.cpuset : Populate cpuset cgroup: /foreground\n",
      "2017-07-14 10:54:28,455 DEBUG   : CGroup.cpuset : Populate cpuset cgroup: /foreground/boost\n",
      "2017-07-14 10:54:28,456 DEBUG   : CGroup.cpuset : Populate cpuset cgroup: /top-app\n"
     ]
    },
    {
     "name": "stdout",
     "output_type": "stream",
     "text": [
      "Existing CGropups:\n",
      "    /\n",
      "    /system-background\n",
      "    /background\n",
      "    /foreground\n",
      "    /foreground/boost\n",
      "    /top-app\n"
     ]
    }
   ],
   "source": [
    "# Get the list of current configured CGroups for that controller\n",
    "cgroups = cpuset.list_all()\n",
    "print 'Existing CGropups:'\n",
    "for cg in cgroups:\n",
    "    print \"   \", cg"
   ]
  },
  {
   "cell_type": "code",
   "execution_count": 44,
   "metadata": {
    "collapsed": false
   },
   "outputs": [
    {
     "name": "stderr",
     "output_type": "stream",
     "text": [
      "2017-07-14 10:54:32,433 DEBUG   : cgroups.cpuset : Creating cgroup /data/local/tmp/devlib-target/cgroups/devlib_cgh5/LITTLE\n",
      "2017-07-14 10:54:32,518 DEBUG   : root         : Reading cpuset attributes from:\n",
      "2017-07-14 10:54:32,520 DEBUG   : root         :   /data/local/tmp/devlib-target/cgroups/devlib_cgh5/LITTLE\n"
     ]
    },
    {
     "data": {
      "text/plain": [
       "{'cpu_exclusive': '0',\n",
       " 'cpus': '',\n",
       " 'effective_cpus': '',\n",
       " 'effective_mems': '',\n",
       " 'ls': ' /data/local/tmp/devlib-target/cgroups/devlib_cgh5/LITTLE/cpuset.*',\n",
       " 'mem_exclusive': '0',\n",
       " 'mem_hardwall': '0',\n",
       " 'memory_migrate': '0',\n",
       " 'memory_pressure': '0',\n",
       " 'memory_spread_page': '0',\n",
       " 'memory_spread_slab': '0',\n",
       " 'mems': '',\n",
       " 'notify_on_release': '0',\n",
       " 'sched_load_balance': '1',\n",
       " 'sched_relax_domain_level': '-1'}"
      ]
     },
     "execution_count": 44,
     "metadata": {},
     "output_type": "execute_result"
    }
   ],
   "source": [
    "# Create a LITTLE partition and check which tunables we have\n",
    "cpuset_littles = cpuset.cgroup('/LITTLE')\n",
    "cpuset_littles.get()"
   ]
  },
  {
   "cell_type": "code",
   "execution_count": 45,
   "metadata": {
    "collapsed": false
   },
   "outputs": [
    {
     "name": "stderr",
     "output_type": "stream",
     "text": [
      "2017-07-14 10:54:37,358 DEBUG   : cgroups.cpuset : Set attribute [/data/local/tmp/devlib-target/cgroups/devlib_cgh5/LITTLE/cpus] to: 0-3\"\n",
      "2017-07-14 10:54:37,539 DEBUG   : cgroups.cpuset : Set attribute [/data/local/tmp/devlib-target/cgroups/devlib_cgh5/LITTLE/mems] to: 0\"\n"
     ]
    }
   ],
   "source": [
    "# Setup CPUs and MEMORY nodes for the LITTLE partition\n",
    "cpuset_littles.set(cpus=te.target.bl.littles, mems=0)"
   ]
  },
  {
   "cell_type": "code",
   "execution_count": 46,
   "metadata": {
    "collapsed": false
   },
   "outputs": [
    {
     "name": "stderr",
     "output_type": "stream",
     "text": [
      "2017-07-14 10:54:41,164 DEBUG   : root         : Reading cpuset attributes from:\n",
      "2017-07-14 10:54:41,167 DEBUG   : root         :   /data/local/tmp/devlib-target/cgroups/devlib_cgh5\n",
      "2017-07-14 10:54:41,315 DEBUG   : cgroups.cpuset : Creating cgroup /data/local/tmp/devlib-target/cgroups/devlib_cgh5/system-background\n",
      "2017-07-14 10:54:41,397 DEBUG   : root         : Reading cpuset attributes from:\n",
      "2017-07-14 10:54:41,399 DEBUG   : root         :   /data/local/tmp/devlib-target/cgroups/devlib_cgh5/system-background\n"
     ]
    },
    {
     "name": "stdout",
     "output_type": "stream",
     "text": [
      "cpuset:/               cpus: 0-7\n"
     ]
    },
    {
     "name": "stderr",
     "output_type": "stream",
     "text": [
      "2017-07-14 10:54:41,540 DEBUG   : cgroups.cpuset : Creating cgroup /data/local/tmp/devlib-target/cgroups/devlib_cgh5/background\n",
      "2017-07-14 10:54:41,624 DEBUG   : root         : Reading cpuset attributes from:\n",
      "2017-07-14 10:54:41,626 DEBUG   : root         :   /data/local/tmp/devlib-target/cgroups/devlib_cgh5/background\n"
     ]
    },
    {
     "name": "stdout",
     "output_type": "stream",
     "text": [
      "cpuset:/system-background cpus: 0-3\n"
     ]
    },
    {
     "name": "stderr",
     "output_type": "stream",
     "text": [
      "2017-07-14 10:54:41,768 DEBUG   : cgroups.cpuset : Creating cgroup /data/local/tmp/devlib-target/cgroups/devlib_cgh5/foreground\n",
      "2017-07-14 10:54:41,853 DEBUG   : root         : Reading cpuset attributes from:\n",
      "2017-07-14 10:54:41,855 DEBUG   : root         :   /data/local/tmp/devlib-target/cgroups/devlib_cgh5/foreground\n"
     ]
    },
    {
     "name": "stdout",
     "output_type": "stream",
     "text": [
      "cpuset:/background     cpus: 0\n"
     ]
    },
    {
     "name": "stderr",
     "output_type": "stream",
     "text": [
      "2017-07-14 10:54:41,994 DEBUG   : cgroups.cpuset : Creating cgroup /data/local/tmp/devlib-target/cgroups/devlib_cgh5/foreground/boost\n",
      "2017-07-14 10:54:42,083 DEBUG   : root         : Reading cpuset attributes from:\n",
      "2017-07-14 10:54:42,085 DEBUG   : root         :   /data/local/tmp/devlib-target/cgroups/devlib_cgh5/foreground/boost\n"
     ]
    },
    {
     "name": "stdout",
     "output_type": "stream",
     "text": [
      "cpuset:/foreground     cpus: 0-6\n"
     ]
    },
    {
     "name": "stderr",
     "output_type": "stream",
     "text": [
      "2017-07-14 10:54:42,231 DEBUG   : cgroups.cpuset : Creating cgroup /data/local/tmp/devlib-target/cgroups/devlib_cgh5/top-app\n",
      "2017-07-14 10:54:42,332 DEBUG   : root         : Reading cpuset attributes from:\n",
      "2017-07-14 10:54:42,334 DEBUG   : root         :   /data/local/tmp/devlib-target/cgroups/devlib_cgh5/top-app\n"
     ]
    },
    {
     "name": "stdout",
     "output_type": "stream",
     "text": [
      "cpuset:/foreground/boost cpus: 0\n",
      "cpuset:/top-app        cpus: 0-7\n"
     ]
    }
   ],
   "source": [
    "# Dump the configuraiton of each controller\n",
    "for cgname in cgroups:\n",
    "    cgroup = cpuset.cgroup(cgname)\n",
    "    attrs = cgroup.get()\n",
    "    cpus = attrs['cpus']\n",
    "    print '{}:{:<15} cpus: {}'.format(cpuset.kind, cgroup.name, cpus)"
   ]
  },
  {
   "cell_type": "code",
   "execution_count": 47,
   "metadata": {
    "collapsed": true
   },
   "outputs": [],
   "source": [
    "# Methods exists to move tasks in/out and in between groups\n",
    "# cpuset_littles.add_task()"
   ]
  },
  {
   "cell_type": "markdown",
   "metadata": {},
   "source": [
    "# Sample energy from the target"
   ]
  },
  {
   "cell_type": "code",
   "execution_count": 48,
   "metadata": {
    "collapsed": false,
    "scrolled": false
   },
   "outputs": [
    {
     "ename": "AttributeError",
     "evalue": "'NoneType' object has no attribute 'reset'",
     "output_type": "error",
     "traceback": [
      "\u001b[1;31m\u001b[0m",
      "\u001b[1;31mAttributeError\u001b[0mTraceback (most recent call last)",
      "\u001b[1;32m<ipython-input-48-44874e3e173b>\u001b[0m in \u001b[0;36m<module>\u001b[1;34m()\u001b[0m\n\u001b[0;32m      1\u001b[0m \u001b[1;31m# Reset and sample energy counters\u001b[0m\u001b[1;33m\u001b[0m\u001b[1;33m\u001b[0m\u001b[0m\n\u001b[1;32m----> 2\u001b[1;33m \u001b[0mte\u001b[0m\u001b[1;33m.\u001b[0m\u001b[0memeter\u001b[0m\u001b[1;33m.\u001b[0m\u001b[0mreset\u001b[0m\u001b[1;33m(\u001b[0m\u001b[1;33m)\u001b[0m\u001b[1;33m\u001b[0m\u001b[0m\n\u001b[0m\u001b[0;32m      3\u001b[0m \u001b[1;33m\u001b[0m\u001b[0m\n\u001b[0;32m      4\u001b[0m \u001b[1;31m# Sleep some time\u001b[0m\u001b[1;33m\u001b[0m\u001b[1;33m\u001b[0m\u001b[0m\n\u001b[0;32m      5\u001b[0m \u001b[0mtime\u001b[0m\u001b[1;33m.\u001b[0m\u001b[0msleep\u001b[0m\u001b[1;33m(\u001b[0m\u001b[1;36m2\u001b[0m\u001b[1;33m)\u001b[0m\u001b[1;33m\u001b[0m\u001b[0m\n",
      "\u001b[1;31mAttributeError\u001b[0m: 'NoneType' object has no attribute 'reset'"
     ]
    }
   ],
   "source": [
    "# If you want to execute this cell successfully, you must connect AEP or ACME to Hikey960\n",
    "\n",
    "# Reset and sample energy counters\n",
    "te.emeter.reset()\n",
    "\n",
    "# Sleep some time\n",
    "time.sleep(2)\n",
    "\n",
    "# Sample energy consumption since last reset\n",
    "nrg = te.emeter.sample()\n",
    "nrg = json.dumps(te.emeter.sample(), indent=4)\n",
    "print \"First read: \", nrg\n",
    "\n",
    "# Sleep some more time\n",
    "time.sleep(2)\n",
    "\n",
    "# Sample again\n",
    "nrg = te.emeter.sample()\n",
    "nrg = json.dumps(te.emeter.sample(), indent=4)\n",
    "print \"Second read: \", nrg"
   ]
  },
  {
   "cell_type": "markdown",
   "metadata": {},
   "source": [
    "# Configure FTrace for a sepcific experiment"
   ]
  },
  {
   "cell_type": "code",
   "execution_count": 49,
   "metadata": {
    "collapsed": false
   },
   "outputs": [
    {
     "name": "stderr",
     "output_type": "stream",
     "text": [
      "2017-07-14 10:54:57,930 INFO    : TestEnv      : Enabled tracepoints:\n",
      "2017-07-14 10:54:57,936 INFO    : TestEnv      :    cpu_idle\n",
      "2017-07-14 10:54:57,938 INFO    : TestEnv      :    cpu_capacity\n",
      "2017-07-14 10:54:57,939 INFO    : TestEnv      :    cpu_frequency\n",
      "2017-07-14 10:54:57,943 INFO    : TestEnv      :    sched_switch\n"
     ]
    }
   ],
   "source": [
    "# Configure a specific set of events to trace\n",
    "te.ftrace_conf(\n",
    "    {                                                                                                                                             \n",
    "         \"events\" : [                                                                                                                                            \n",
    "             \"cpu_idle\",                                                                                                                                         \n",
    "             \"cpu_capacity\",\n",
    "             \"cpu_frequency\",\n",
    "             \"sched_switch\",\n",
    "         ],                                                                                                                                                      \n",
    "         \"buffsize\" : 10240                                                                                                                                      \n",
    "    }\n",
    ")"
   ]
  },
  {
   "cell_type": "code",
   "execution_count": 8,
   "metadata": {
    "collapsed": false
   },
   "outputs": [
    {
     "name": "stderr",
     "output_type": "stream",
     "text": [
      "02:59:45  DEBUG   : sudo -- sh -c 'echo 10240 > '\\''/sys/kernel/debug/tracing/buffer_size_kb'\\'''\n",
      "02:59:45  DEBUG   : sudo -- sh -c 'cat '\\''/sys/kernel/debug/tracing/buffer_size_kb'\\'''\n",
      "02:59:45  DEBUG   : sudo -- sh -c '/root/devlib-target/bin/trace-cmd reset'\n",
      "02:59:46  DEBUG   : sudo -- sh -c '/root/devlib-target/bin/trace-cmd start -e cpu_idle -e cpu_capacity -e cpu_frequency -e sched_switch'\n",
      "02:59:48  DEBUG   : sudo -- sh -c 'echo TRACE_MARKER_START > '\\''/sys/kernel/debug/tracing/trace_marker'\\'''\n",
      "02:59:48  DEBUG   : Trace CPUFreq frequencies\n",
      "02:59:48  DEBUG   : sudo -- sh -c '/root/devlib-target/bin/shutils cpufreq_trace_all_frequencies'\n",
      "02:59:48  DEBUG   : uname -a\n",
      "02:59:49  DEBUG   : Trace CPUFreq frequencies\n",
      "02:59:49  DEBUG   : sudo -- sh -c '/root/devlib-target/bin/shutils cpufreq_trace_all_frequencies'\n",
      "02:59:49  DEBUG   : sudo -- sh -c 'echo TRACE_MARKER_STOP > '\\''/sys/kernel/debug/tracing/trace_marker'\\'''\n",
      "02:59:49  DEBUG   : sudo -- sh -c '/root/devlib-target/bin/trace-cmd stop'\n"
     ]
    }
   ],
   "source": [
    "# Start/Stop a FTrace session\n",
    "te.ftrace.start()\n",
    "te.target.execute(\"uname -a\")\n",
    "te.ftrace.stop()"
   ]
  },
  {
   "cell_type": "code",
   "execution_count": 9,
   "metadata": {
    "collapsed": false
   },
   "outputs": [
    {
     "name": "stderr",
     "output_type": "stream",
     "text": [
      "02:59:50  DEBUG   : sudo -- sh -c '/root/devlib-target/bin/trace-cmd extract -o /root/devlib-target/trace.dat'\n",
      "02:59:51  DEBUG   : /usr/bin/scp -r   root@192.168.0.1:/root/devlib-target/trace.dat /home/derkling/Code/lisa/results/TestEnvExample/trace.dat\n"
     ]
    }
   ],
   "source": [
    "# Collect and visualize the trace\n",
    "trace_file = os.path.join(te.res_dir, 'trace.dat')\n",
    "te.ftrace.get_trace(trace_file)\n",
    "output = os.popen(\"DISPLAY=:0.0 kernelshark {}\".format(trace_file))"
   ]
  }
 ],
 "metadata": {
  "kernelspec": {
   "display_name": "Python 2",
   "language": "python",
   "name": "python2"
  },
  "language_info": {
   "codemirror_mode": {
    "name": "ipython",
    "version": 2
   },
   "file_extension": ".py",
   "mimetype": "text/x-python",
   "name": "python",
   "nbconvert_exporter": "python",
   "pygments_lexer": "ipython2",
   "version": "2.7.12"
  }
 },
 "nbformat": 4,
 "nbformat_minor": 0
}
