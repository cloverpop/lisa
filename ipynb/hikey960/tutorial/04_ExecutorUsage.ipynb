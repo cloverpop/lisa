{
 "cells": [
  {
   "cell_type": "markdown",
   "metadata": {},
   "source": [
    "# Tutorial Goal"
   ]
  },
  {
   "cell_type": "markdown",
   "metadata": {},
   "source": [
    "This tutorial aims to show how to **configure and run** a predefined set of\n",
    "**synthetic workload** using the **executor module** provided by LISA."
   ]
  },
  {
   "cell_type": "markdown",
   "metadata": {},
   "source": [
    "# Configure logging"
   ]
  },
  {
   "cell_type": "code",
   "execution_count": 1,
   "metadata": {
    "collapsed": false
   },
   "outputs": [
    {
     "name": "stderr",
     "output_type": "stream",
     "text": [
      "2017-07-14 11:23:34,391 INFO    : root         : Using LISA logging configuration:\n",
      "2017-07-14 11:23:34,396 INFO    : root         :   /data/lisa_remote/lisa/logging.conf\n"
     ]
    }
   ],
   "source": [
    "import logging\n",
    "from conf import LisaLogging\n",
    "LisaLogging.setup()"
   ]
  },
  {
   "cell_type": "code",
   "execution_count": 2,
   "metadata": {
    "collapsed": false
   },
   "outputs": [],
   "source": [
    "# Execute this cell to enabled executor debugging statements\n",
    "logging.getLogger('Executor').setLevel(logging.DEBUG)"
   ]
  },
  {
   "cell_type": "markdown",
   "metadata": {},
   "source": [
    "# Target Configuration"
   ]
  },
  {
   "cell_type": "code",
   "execution_count": 4,
   "metadata": {
    "collapsed": false,
    "scrolled": true
   },
   "outputs": [
    {
     "name": "stderr",
     "output_type": "stream",
     "text": [
      "2017-07-14 11:24:16,272 INFO    : TestEnv      : Using base path: /data/lisa_remote/lisa\n",
      "2017-07-14 11:24:16,281 INFO    : TestEnv      : Loading custom (inline) target configuration\n",
      "2017-07-14 11:24:16,283 INFO    : TestEnv      : External tools using:\n",
      "2017-07-14 11:24:16,288 INFO    : TestEnv      :    ANDROID_HOME: /home/zhifei/zyang/android-sdk-linux\n",
      "2017-07-14 11:24:16,289 INFO    : TestEnv      :    CATAPULT_HOME: /data/lisa_remote/lisa/tools/catapult\n",
      "2017-07-14 11:24:16,290 INFO    : TestEnv      : Devlib modules to load: ['bl', 'cpuidle', 'cpufreq']\n",
      "2017-07-14 11:24:16,292 INFO    : TestEnv      : Connecting Android target [DEFAULT]\n",
      "2017-07-14 11:24:16,298 INFO    : TestEnv      : Connection settings:\n",
      "2017-07-14 11:24:16,304 INFO    : TestEnv      :    None\n",
      "2017-07-14 11:24:17,183 INFO    : TestEnv      : Initializing target workdir:\n",
      "2017-07-14 11:24:17,186 INFO    : TestEnv      :    /data/local/tmp/devlib-target\n",
      "2017-07-14 11:24:18,230 INFO    : TestEnv      : install_tools:\n",
      "\t tools is [set(['trace-cmd', 'perf'])]\n",
      "2017-07-14 11:24:18,232 INFO    : TestEnv      : \t __installed_tools is [set([])]\n",
      "2017-07-14 11:24:18,233 INFO    : TestEnv      : \t binary is [/data/lisa_remote/lisa/tools/scripts/trace-cmd]\n",
      "2017-07-14 11:24:18,235 INFO    : TestEnv      : \t binary with abi is [/data/lisa_remote/lisa/tools/arm64/trace-cmd]\n",
      "2017-07-14 11:24:18,238 INFO    : TestEnv      : \t binary is [/data/lisa_remote/lisa/tools/scripts/perf]\n",
      "2017-07-14 11:24:18,239 INFO    : TestEnv      : \t binary with abi is [/data/lisa_remote/lisa/tools/arm64/perf]\n",
      "2017-07-14 11:24:18,243 INFO    : TestEnv      : \t tool_to_install is [/data/lisa_remote/lisa/tools/arm64/trace-cmd]\n",
      "2017-07-14 11:24:18,680 INFO    : TestEnv      : \t tool_to_install is [/data/lisa_remote/lisa/tools/arm64/perf]\n",
      "2017-07-14 11:24:19,149 INFO    : TestEnv      : \t finally __installed_tools is [set(['trace-cmd', 'perf'])]\n",
      "2017-07-14 11:24:19,156 INFO    : TestEnv      : Topology:\n",
      "2017-07-14 11:24:19,157 INFO    : TestEnv      :    [[0, 1, 2, 3], [4, 5, 6, 7]]\n",
      "2017-07-14 11:24:19,453 INFO    : TestEnv      : Loading default EM:\n",
      "2017-07-14 11:24:19,463 INFO    : TestEnv      :    /data/lisa_remote/lisa/libs/utils/platforms/hikey960.json\n",
      "2017-07-14 11:24:20,120 INFO    : TestEnv      : Enabled tracepoints:\n",
      "2017-07-14 11:24:20,123 INFO    : TestEnv      :    sched_switch\n",
      "2017-07-14 11:24:20,126 INFO    : TestEnv      :    sched_wakeup\n",
      "2017-07-14 11:24:20,128 INFO    : TestEnv      :    sched_wakeup_new\n",
      "2017-07-14 11:24:20,132 INFO    : TestEnv      :    cpu_frequency\n",
      "2017-07-14 11:24:20,134 INFO    : TestEnv      : Set results folder to:\n",
      "2017-07-14 11:24:20,135 INFO    : TestEnv      :    /data/lisa_remote/lisa/results/ExecutorExample_hikey960\n",
      "2017-07-14 11:24:20,136 INFO    : TestEnv      : Experiment results available also in:\n",
      "2017-07-14 11:24:20,141 INFO    : TestEnv      :    /data/lisa_remote/lisa/results_latest\n"
     ]
    }
   ],
   "source": [
    "from env import TestEnv\n",
    "\n",
    "# Setup a test environment with target configuration\n",
    "env = TestEnv({\n",
    "    \n",
    "    # Target platform and board\n",
    "    \"platform\"    : 'android',\n",
    "    \"board\"       : 'hikey960',\n",
    "    \n",
    "    # Target board IP/MAC address\n",
    "    #\"host\"        : '192.168.0.1',\n",
    "    \n",
    "    # Login credentials\n",
    "    \"username\"    : 'root',\n",
    "    \"password\"    : 'test0000',\n",
    "\n",
    "    # Folder where all the results will be collected\n",
    "    \"results_dir\" : \"ExecutorExample_hikey960\",\n",
    "            \n",
    "    # FTrace events to collect for all the tests configuration which have\n",
    "    # the \"ftrace\" flag enabled\n",
    "    \"ftrace\"  : {\n",
    "         \"events\" : [\n",
    "            \"sched_switch\",\n",
    "            \"sched_wakeup\",\n",
    "            \"sched_wakeup_new\",\n",
    "            \"cpu_frequency\",\n",
    "         ],\n",
    "         \"buffsize\" : 80 * 1024,\n",
    "    },\n",
    "    \n",
    "    # Tools required by the experiments\n",
    "    \"tools\"   : [ 'trace-cmd', 'perf' ],\n",
    "    \n",
    "    # Modules required by these experiments\n",
    "    \"modules\"     : [ 'bl', 'cpufreq' ],\n",
    "})"
   ]
  },
  {
   "cell_type": "markdown",
   "metadata": {},
   "source": [
    "# Tests Configuration"
   ]
  },
  {
   "cell_type": "code",
   "execution_count": 5,
   "metadata": {
    "collapsed": false,
    "scrolled": false
   },
   "outputs": [],
   "source": [
    "my_tests_conf = {\n",
    "\n",
    "    # Platform configurations to test\n",
    "    \"confs\" : [\n",
    "        {\n",
    "            \"tag\"            : \"base\",\n",
    "            \"flags\"          : \"ftrace\",           # Enable FTrace events\n",
    "            \"sched_features\" : \"NO_ENERGY_AWARE\",  # Disable EAS\n",
    "            \"cpufreq\"        : {                   # Use PERFORMANCE CpuFreq\n",
    "                \"governor\" : \"performance\",\n",
    "            },\n",
    "        },\n",
    "        {\n",
    "            \"tag\"            : \"eas\",\n",
    "            \"flags\"          : \"ftrace\",           # Enable FTrace events\n",
    "            \"sched_features\" : \"ENERGY_AWARE\",     # Enable EAS\n",
    "            \"cpufreq\"        : {                   # Use PERFORMANCE CpuFreq\n",
    "                \"governor\" : \"performance\",\n",
    "            },\n",
    "        },\n",
    "    ],\n",
    "    \n",
    "    # Workloads to run (on each platform configuration)\n",
    "    \"wloads\" : {\n",
    "        # Run hackbench with 1 group using pipes\n",
    "        \"perf\" : {\n",
    "            \"type\" : \"perf_bench\",\n",
    "            \"conf\" : {\n",
    "                \"class\" : \"messaging\",\n",
    "                \"params\" : {\n",
    "                    \"group\" :    1,\n",
    "                    \"loop\"  :   10,\n",
    "                    \"pipe\"  : True,\n",
    "                    \"thread\": True,\n",
    "                }\n",
    "            }\n",
    "        },\n",
    "        # Run a 20% duty-cycle periodic task\n",
    "        \"rta\" : {\n",
    "            \"type\" : \"rt-app\",\n",
    "            \"loadref\" : \"big\",\n",
    "            \"conf\" : {\n",
    "                \"class\"  : \"profile\",\n",
    "                \"params\"  : {\n",
    "                    \"p20\" : {\n",
    "                        \"kind\"   : \"Periodic\",\n",
    "                        \"params\" : {\n",
    "                            \"duty_cycle_pct\" : 20,\n",
    "                         },\n",
    "                    },\n",
    "                },\n",
    "            },\n",
    "        },\n",
    "    },\n",
    "    \n",
    "    # Number of iterations for each workload\n",
    "    \"iterations\" : 1,\n",
    "}"
   ]
  },
  {
   "cell_type": "markdown",
   "metadata": {},
   "source": [
    "# Tests execution"
   ]
  },
  {
   "cell_type": "code",
   "execution_count": 6,
   "metadata": {
    "collapsed": false
   },
   "outputs": [
    {
     "name": "stderr",
     "output_type": "stream",
     "text": [
      "2017-07-14 11:24:37,456 INFO    : Executor     : Loading custom (inline) test configuration\n",
      "2017-07-14 11:24:37,458 INFO    : Executor     : \n",
      "2017-07-14 11:24:37,460 INFO    : Executor     : ################################################################################\n",
      "2017-07-14 11:24:37,464 INFO    : Executor     : Experiments configuration\n",
      "2017-07-14 11:24:37,465 INFO    : Executor     : ################################################################################\n",
      "2017-07-14 11:24:37,467 INFO    : Executor     : Configured to run:\n",
      "2017-07-14 11:24:37,472 INFO    : Executor     :      2 target configurations:\n",
      "2017-07-14 11:24:37,473 INFO    : Executor     :       base, eas\n",
      "2017-07-14 11:24:37,474 INFO    : Executor     :      2 workloads (1 iterations each)\n",
      "2017-07-14 11:24:37,475 INFO    : Executor     :       rta, perf\n",
      "2017-07-14 11:24:37,476 INFO    : Executor     : Total: 4 experiments\n",
      "2017-07-14 11:24:37,484 INFO    : Executor     : Results will be collected under:\n",
      "2017-07-14 11:24:37,485 INFO    : Executor     :       /data/lisa_remote/lisa/results/ExecutorExample_hikey960\n",
      "2017-07-14 11:24:37,487 INFO    : Executor     : rt-app workloads found, installing tool on target\n",
      "2017-07-14 11:24:37,488 INFO    : TestEnv      : install_tools:\n",
      "\t tools is [set(['rt-app'])]\n",
      "2017-07-14 11:24:37,489 INFO    : TestEnv      : \t __installed_tools is [set(['trace-cmd', 'perf'])]\n",
      "2017-07-14 11:24:37,490 INFO    : TestEnv      : \t binary is [/data/lisa_remote/lisa/tools/scripts/rt-app]\n",
      "2017-07-14 11:24:37,491 INFO    : TestEnv      : \t binary with abi is [/data/lisa_remote/lisa/tools/arm64/rt-app]\n",
      "2017-07-14 11:24:37,492 INFO    : TestEnv      : \t binary is [/data/lisa_remote/lisa/tools/scripts/taskset]\n",
      "2017-07-14 11:24:37,492 INFO    : TestEnv      : \t binary with abi is [/data/lisa_remote/lisa/tools/arm64/taskset]\n",
      "2017-07-14 11:24:37,493 INFO    : TestEnv      : \t binary is [/data/lisa_remote/lisa/tools/scripts/cgroup_run_into.sh]\n",
      "2017-07-14 11:24:37,494 INFO    : TestEnv      : \t tool_to_install is [/data/lisa_remote/lisa/tools/arm64/rt-app]\n",
      "2017-07-14 11:24:38,079 INFO    : TestEnv      : \t tool_to_install is [/data/lisa_remote/lisa/tools/arm64/taskset]\n",
      "2017-07-14 11:24:38,570 INFO    : TestEnv      : \t tool_to_install is [/data/lisa_remote/lisa/tools/scripts/cgroup_run_into.sh]\n",
      "2017-07-14 11:24:38,979 INFO    : TestEnv      : \t finally __installed_tools is [set(['taskset', 'cgroup_run_into.sh', 'trace-cmd', 'rt-app', 'perf'])]\n"
     ]
    }
   ],
   "source": [
    "from executor import Executor\n",
    "\n",
    "executor = Executor(env, my_tests_conf)"
   ]
  },
  {
   "cell_type": "code",
   "execution_count": 7,
   "metadata": {
    "collapsed": false,
    "scrolled": true
   },
   "outputs": [
    {
     "name": "stderr",
     "output_type": "stream",
     "text": [
      "2017-07-14 11:24:43,422 INFO    : Executor     : \n",
      "2017-07-14 11:24:43,428 INFO    : Executor     : ################################################################################\n",
      "2017-07-14 11:24:43,430 INFO    : Executor     : Experiments execution\n",
      "2017-07-14 11:24:43,432 INFO    : Executor     : ################################################################################\n",
      "2017-07-14 11:24:43,436 INFO    : Executor     : \n",
      "2017-07-14 11:24:43,437 INFO    : Executor     : ================================================================================\n",
      "2017-07-14 11:24:43,439 INFO    : Executor     : configuring target for [base] experiments\n",
      "2017-07-14 11:24:43,444 DEBUG   : Executor     : Setup RT-App run folder [/data/local/tmp/devlib-target/run_dir]...\n",
      "2017-07-14 11:24:43,687 WARNING : Executor     : Setting target SELinux in permissive mode\n",
      "2017-07-14 11:24:43,801 INFO    : Executor     : Set scheduler feature: NO_ENERGY_AWARE\n"
     ]
    },
    {
     "ename": "TargetError",
     "evalue": "Got exit code 1\nfrom target command: echo 'echo NO_ENERGY_AWARE > /sys/kernel/debug/sched_features' | su\nSTDOUT: \nSTDERR: /system/bin/sh: <stdin>[1]: can't create /sys/kernel/debug/sched_features: Permission denied\n",
     "output_type": "error",
     "traceback": [
      "\u001b[1;31m\u001b[0m",
      "\u001b[1;31mTargetError\u001b[0mTraceback (most recent call last)",
      "\u001b[1;32m<ipython-input-7-f821cd838314>\u001b[0m in \u001b[0;36m<module>\u001b[1;34m()\u001b[0m\n\u001b[1;32m----> 1\u001b[1;33m \u001b[0mexecutor\u001b[0m\u001b[1;33m.\u001b[0m\u001b[0mrun\u001b[0m\u001b[1;33m(\u001b[0m\u001b[1;33m)\u001b[0m\u001b[1;33m\u001b[0m\u001b[0m\n\u001b[0m",
      "\u001b[1;32m/data/lisa_remote/lisa/libs/utils/executor.pyc\u001b[0m in \u001b[0;36mrun\u001b[1;34m(self)\u001b[0m\n\u001b[0;32m    264\u001b[0m         \u001b[1;32mfor\u001b[0m \u001b[0mtc\u001b[0m \u001b[1;32min\u001b[0m \u001b[0mself\u001b[0m\u001b[1;33m.\u001b[0m\u001b[0m_experiments_conf\u001b[0m\u001b[1;33m[\u001b[0m\u001b[1;34m'confs'\u001b[0m\u001b[1;33m]\u001b[0m\u001b[1;33m:\u001b[0m\u001b[1;33m\u001b[0m\u001b[0m\n\u001b[0;32m    265\u001b[0m             \u001b[1;31m# TARGET: configuration\u001b[0m\u001b[1;33m\u001b[0m\u001b[1;33m\u001b[0m\u001b[0m\n\u001b[1;32m--> 266\u001b[1;33m             \u001b[1;32mif\u001b[0m \u001b[1;32mnot\u001b[0m \u001b[0mself\u001b[0m\u001b[1;33m.\u001b[0m\u001b[0m_target_configure\u001b[0m\u001b[1;33m(\u001b[0m\u001b[0mtc\u001b[0m\u001b[1;33m)\u001b[0m\u001b[1;33m:\u001b[0m\u001b[1;33m\u001b[0m\u001b[0m\n\u001b[0m\u001b[0;32m    267\u001b[0m                 \u001b[1;32mcontinue\u001b[0m\u001b[1;33m\u001b[0m\u001b[0m\n\u001b[0;32m    268\u001b[0m             \u001b[1;32mfor\u001b[0m \u001b[0mwl_idx\u001b[0m \u001b[1;32min\u001b[0m \u001b[0mself\u001b[0m\u001b[1;33m.\u001b[0m\u001b[0m_experiments_conf\u001b[0m\u001b[1;33m[\u001b[0m\u001b[1;34m'wloads'\u001b[0m\u001b[1;33m]\u001b[0m\u001b[1;33m:\u001b[0m\u001b[1;33m\u001b[0m\u001b[0m\n",
      "\u001b[1;32m/data/lisa_remote/lisa/libs/utils/executor.pyc\u001b[0m in \u001b[0;36m_target_configure\u001b[1;34m(self, tc)\u001b[0m\n\u001b[0;32m    456\u001b[0m                 .format(tc['tag']))\n\u001b[0;32m    457\u001b[0m         \u001b[0mself\u001b[0m\u001b[1;33m.\u001b[0m\u001b[0m_setup_kernel\u001b[0m\u001b[1;33m(\u001b[0m\u001b[0mtc\u001b[0m\u001b[1;33m)\u001b[0m\u001b[1;33m\u001b[0m\u001b[0m\n\u001b[1;32m--> 458\u001b[1;33m         \u001b[0mself\u001b[0m\u001b[1;33m.\u001b[0m\u001b[0m_setup_sched_features\u001b[0m\u001b[1;33m(\u001b[0m\u001b[0mtc\u001b[0m\u001b[1;33m)\u001b[0m\u001b[1;33m\u001b[0m\u001b[0m\n\u001b[0m\u001b[0;32m    459\u001b[0m         \u001b[0mself\u001b[0m\u001b[1;33m.\u001b[0m\u001b[0m_setup_cpufreq\u001b[0m\u001b[1;33m(\u001b[0m\u001b[0mtc\u001b[0m\u001b[1;33m)\u001b[0m\u001b[1;33m\u001b[0m\u001b[0m\n\u001b[0;32m    460\u001b[0m         \u001b[0mself\u001b[0m\u001b[1;33m.\u001b[0m\u001b[0m_setup_files\u001b[0m\u001b[1;33m(\u001b[0m\u001b[0mtc\u001b[0m\u001b[1;33m)\u001b[0m\u001b[1;33m\u001b[0m\u001b[0m\n",
      "\u001b[1;32m/data/lisa_remote/lisa/libs/utils/executor.pyc\u001b[0m in \u001b[0;36m_setup_sched_features\u001b[1;34m(self, tc)\u001b[0m\n\u001b[0;32m    324\u001b[0m             \u001b[0mself\u001b[0m\u001b[1;33m.\u001b[0m\u001b[0m_log\u001b[0m\u001b[1;33m.\u001b[0m\u001b[0minfo\u001b[0m\u001b[1;33m(\u001b[0m\u001b[1;34m'Set scheduler feature: %s'\u001b[0m\u001b[1;33m,\u001b[0m \u001b[0mfeat\u001b[0m\u001b[1;33m)\u001b[0m\u001b[1;33m\u001b[0m\u001b[0m\n\u001b[0;32m    325\u001b[0m             self.target.execute('echo {} > /sys/kernel/debug/sched_features'.format(feat),\n\u001b[1;32m--> 326\u001b[1;33m                                 as_root=True)\n\u001b[0m\u001b[0;32m    327\u001b[0m \u001b[1;33m\u001b[0m\u001b[0m\n\u001b[0;32m    328\u001b[0m     \u001b[1;32mdef\u001b[0m \u001b[0m_setup_rootfs\u001b[0m\u001b[1;33m(\u001b[0m\u001b[0mself\u001b[0m\u001b[1;33m,\u001b[0m \u001b[0mtc\u001b[0m\u001b[1;33m)\u001b[0m\u001b[1;33m:\u001b[0m\u001b[1;33m\u001b[0m\u001b[0m\n",
      "\u001b[1;32m/data/lisa_remote/lisa/libs/devlib/devlib/target.pyc\u001b[0m in \u001b[0;36mexecute\u001b[1;34m(self, command, timeout, check_exit_code, as_root)\u001b[0m\n\u001b[0;32m    314\u001b[0m \u001b[1;33m\u001b[0m\u001b[0m\n\u001b[0;32m    315\u001b[0m     \u001b[1;32mdef\u001b[0m \u001b[0mexecute\u001b[0m\u001b[1;33m(\u001b[0m\u001b[0mself\u001b[0m\u001b[1;33m,\u001b[0m \u001b[0mcommand\u001b[0m\u001b[1;33m,\u001b[0m \u001b[0mtimeout\u001b[0m\u001b[1;33m=\u001b[0m\u001b[0mNone\u001b[0m\u001b[1;33m,\u001b[0m \u001b[0mcheck_exit_code\u001b[0m\u001b[1;33m=\u001b[0m\u001b[0mTrue\u001b[0m\u001b[1;33m,\u001b[0m \u001b[0mas_root\u001b[0m\u001b[1;33m=\u001b[0m\u001b[0mFalse\u001b[0m\u001b[1;33m)\u001b[0m\u001b[1;33m:\u001b[0m\u001b[1;33m\u001b[0m\u001b[0m\n\u001b[1;32m--> 316\u001b[1;33m         \u001b[1;32mreturn\u001b[0m \u001b[0mself\u001b[0m\u001b[1;33m.\u001b[0m\u001b[0mconn\u001b[0m\u001b[1;33m.\u001b[0m\u001b[0mexecute\u001b[0m\u001b[1;33m(\u001b[0m\u001b[0mcommand\u001b[0m\u001b[1;33m,\u001b[0m \u001b[0mtimeout\u001b[0m\u001b[1;33m,\u001b[0m \u001b[0mcheck_exit_code\u001b[0m\u001b[1;33m,\u001b[0m \u001b[0mas_root\u001b[0m\u001b[1;33m)\u001b[0m\u001b[1;33m\u001b[0m\u001b[0m\n\u001b[0m\u001b[0;32m    317\u001b[0m \u001b[1;33m\u001b[0m\u001b[0m\n\u001b[0;32m    318\u001b[0m     \u001b[1;32mdef\u001b[0m \u001b[0mbackground\u001b[0m\u001b[1;33m(\u001b[0m\u001b[0mself\u001b[0m\u001b[1;33m,\u001b[0m \u001b[0mcommand\u001b[0m\u001b[1;33m,\u001b[0m \u001b[0mstdout\u001b[0m\u001b[1;33m=\u001b[0m\u001b[0msubprocess\u001b[0m\u001b[1;33m.\u001b[0m\u001b[0mPIPE\u001b[0m\u001b[1;33m,\u001b[0m \u001b[0mstderr\u001b[0m\u001b[1;33m=\u001b[0m\u001b[0msubprocess\u001b[0m\u001b[1;33m.\u001b[0m\u001b[0mPIPE\u001b[0m\u001b[1;33m,\u001b[0m \u001b[0mas_root\u001b[0m\u001b[1;33m=\u001b[0m\u001b[0mFalse\u001b[0m\u001b[1;33m)\u001b[0m\u001b[1;33m:\u001b[0m\u001b[1;33m\u001b[0m\u001b[0m\n",
      "\u001b[1;32m/data/lisa_remote/lisa/libs/devlib/devlib/utils/android.pyc\u001b[0m in \u001b[0;36mexecute\u001b[1;34m(self, command, timeout, check_exit_code, as_root, strip_colors)\u001b[0m\n\u001b[0;32m    227\u001b[0m                 as_root=False, strip_colors=True):\n\u001b[0;32m    228\u001b[0m         return adb_shell(self.device, command, timeout, check_exit_code,\n\u001b[1;32m--> 229\u001b[1;33m                          as_root, self.newline_separator)\n\u001b[0m\u001b[0;32m    230\u001b[0m \u001b[1;33m\u001b[0m\u001b[0m\n\u001b[0;32m    231\u001b[0m     \u001b[1;32mdef\u001b[0m \u001b[0mbackground\u001b[0m\u001b[1;33m(\u001b[0m\u001b[0mself\u001b[0m\u001b[1;33m,\u001b[0m \u001b[0mcommand\u001b[0m\u001b[1;33m,\u001b[0m \u001b[0mstdout\u001b[0m\u001b[1;33m=\u001b[0m\u001b[0msubprocess\u001b[0m\u001b[1;33m.\u001b[0m\u001b[0mPIPE\u001b[0m\u001b[1;33m,\u001b[0m \u001b[0mstderr\u001b[0m\u001b[1;33m=\u001b[0m\u001b[0msubprocess\u001b[0m\u001b[1;33m.\u001b[0m\u001b[0mPIPE\u001b[0m\u001b[1;33m,\u001b[0m \u001b[0mas_root\u001b[0m\u001b[1;33m=\u001b[0m\u001b[0mFalse\u001b[0m\u001b[1;33m)\u001b[0m\u001b[1;33m:\u001b[0m\u001b[1;33m\u001b[0m\u001b[0m\n",
      "\u001b[1;32m/data/lisa_remote/lisa/libs/devlib/devlib/utils/android.pyc\u001b[0m in \u001b[0;36madb_shell\u001b[1;34m(device, command, timeout, check_exit_code, as_root, newline_separator)\u001b[0m\n\u001b[0;32m    372\u001b[0m                 message = ('Got exit code {}\\nfrom target command: {}\\n'\n\u001b[0;32m    373\u001b[0m                            'STDOUT: {}\\nSTDERR: {}')\n\u001b[1;32m--> 374\u001b[1;33m                 \u001b[1;32mraise\u001b[0m \u001b[0mTargetError\u001b[0m\u001b[1;33m(\u001b[0m\u001b[0mmessage\u001b[0m\u001b[1;33m.\u001b[0m\u001b[0mformat\u001b[0m\u001b[1;33m(\u001b[0m\u001b[0mexit_code\u001b[0m\u001b[1;33m,\u001b[0m \u001b[0mcommand\u001b[0m\u001b[1;33m,\u001b[0m \u001b[0moutput\u001b[0m\u001b[1;33m,\u001b[0m \u001b[0merror\u001b[0m\u001b[1;33m)\u001b[0m\u001b[1;33m)\u001b[0m\u001b[1;33m\u001b[0m\u001b[0m\n\u001b[0m\u001b[0;32m    375\u001b[0m             \u001b[1;32melif\u001b[0m \u001b[0mre_search\u001b[0m\u001b[1;33m:\u001b[0m\u001b[1;33m\u001b[0m\u001b[0m\n\u001b[0;32m    376\u001b[0m                 \u001b[0mmessage\u001b[0m \u001b[1;33m=\u001b[0m \u001b[1;34m'Could not start activity; got the following:\\n{}'\u001b[0m\u001b[1;33m\u001b[0m\u001b[0m\n",
      "\u001b[1;31mTargetError\u001b[0m: Got exit code 1\nfrom target command: echo 'echo NO_ENERGY_AWARE > /sys/kernel/debug/sched_features' | su\nSTDOUT: \nSTDERR: /system/bin/sh: <stdin>[1]: can't create /sys/kernel/debug/sched_features: Permission denied\n"
     ]
    }
   ],
   "source": [
    "executor.run()"
   ]
  },
  {
   "cell_type": "code",
   "execution_count": 8,
   "metadata": {
    "collapsed": false
   },
   "outputs": [
    {
     "name": "stdout",
     "output_type": "stream",
     "text": [
      "\u001b[01;34m/data/lisa_remote/lisa/results/ExecutorExample_hikey960\u001b[00m\r\n",
      "\r\n",
      "0 directories, 0 files\r\n"
     ]
    }
   ],
   "source": [
    "!tree {executor.te.res_dir}"
   ]
  },
  {
   "cell_type": "code",
   "execution_count": null,
   "metadata": {
    "collapsed": true
   },
   "outputs": [],
   "source": []
  }
 ],
 "metadata": {
  "kernelspec": {
   "display_name": "Python 2",
   "language": "python",
   "name": "python2"
  },
  "language_info": {
   "codemirror_mode": {
    "name": "ipython",
    "version": 2
   },
   "file_extension": ".py",
   "mimetype": "text/x-python",
   "name": "python",
   "nbconvert_exporter": "python",
   "pygments_lexer": "ipython2",
   "version": "2.7.12"
  }
 },
 "nbformat": 4,
 "nbformat_minor": 0
}
