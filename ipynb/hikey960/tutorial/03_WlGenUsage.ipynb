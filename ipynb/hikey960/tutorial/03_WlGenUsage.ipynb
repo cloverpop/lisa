{
 "cells": [
  {
   "cell_type": "markdown",
   "metadata": {},
   "source": [
    "# Tutorial Goal"
   ]
  },
  {
   "cell_type": "markdown",
   "metadata": {},
   "source": [
    "This tutorial aims to show how to **configure and run** a **synthetic workload** in Hikey960 using the **wlgen module** provided by LISA."
   ]
  },
  {
   "cell_type": "markdown",
   "metadata": {},
   "source": [
    "# Configure logging"
   ]
  },
  {
   "cell_type": "code",
   "execution_count": 1,
   "metadata": {
    "collapsed": false
   },
   "outputs": [
    {
     "name": "stderr",
     "output_type": "stream",
     "text": [
      "2017-07-14 15:01:16,922 INFO    : root         : Using LISA logging configuration:\n",
      "2017-07-14 15:01:16,924 INFO    : root         :   /data/lisa_remote/lisa/logging.conf\n"
     ]
    }
   ],
   "source": [
    "import logging\n",
    "from conf import LisaLogging\n",
    "LisaLogging.setup()"
   ]
  },
  {
   "cell_type": "code",
   "execution_count": 2,
   "metadata": {
    "collapsed": true
   },
   "outputs": [],
   "source": [
    "# Execute this cell to enabled devlib debugging statements\n",
    "logging.getLogger().setLevel(logging.DEBUG)"
   ]
  },
  {
   "cell_type": "code",
   "execution_count": 3,
   "metadata": {
    "collapsed": false
   },
   "outputs": [],
   "source": [
    "# Other python modules required by this notebook\n",
    "import json\n",
    "import os"
   ]
  },
  {
   "cell_type": "markdown",
   "metadata": {},
   "source": [
    "# Test environment setup"
   ]
  },
  {
   "cell_type": "code",
   "execution_count": 4,
   "metadata": {
    "collapsed": false
   },
   "outputs": [],
   "source": [
    "# Setup a target configuration\n",
    "conf = {\n",
    "    \n",
    "    # Target is localhost\n",
    "    \"platform\"    : 'android',\n",
    "    \"board\"       : \"hikey960\",\n",
    "    \n",
    "    # Login credentials\n",
    "    #\"host\"        : \"192.168.0.1\",\n",
    "    \"username\"    : \"root\",\n",
    "    \"password\"    : \"\",\n",
    "\n",
    "    # Binary tools required to run this experiment\n",
    "    # These tools must be present in the tools/ folder for the architecture\n",
    "    \"tools\"   : ['rt-app', 'taskset', 'trace-cmd'],\n",
    "    \n",
    "    # Comment the following line to force rt-app calibration on your target\n",
    "     \"rtapp-calib\" : {\n",
    "        \"0\": 301, \"1\": 301, \"2\": 301, \"3\": 301, \"4\": 226, \"5\": 226, \"6\": 226, \"7\": 226\n",
    "     },\n",
    "    \n",
    "    # FTrace events end buffer configuration\n",
    "    \"ftrace\"  : {\n",
    "         \"events\" : [\n",
    "             \"sched_switch\",\n",
    "             \"cpu_frequency\"\n",
    "         ],\n",
    "         \"buffsize\" : 10240\n",
    "    },\n",
    "\n",
    "    # Where results are collected\n",
    "    \"results_dir\" : \"WlgenExample_hikey960\",\n",
    "    \n",
    "    # Devlib modules we'll need\n",
    "    \"modules\": [\"cpufreq\"]\n",
    "}"
   ]
  },
  {
   "cell_type": "code",
   "execution_count": 6,
   "metadata": {
    "collapsed": false,
    "scrolled": false
   },
   "outputs": [
    {
     "name": "stderr",
     "output_type": "stream",
     "text": [
      "2017-07-14 15:01:51,363 INFO    : TestEnv      : Using base path: /data/lisa_remote/lisa\n",
      "2017-07-14 15:01:51,369 INFO    : TestEnv      : Loading custom (inline) target configuration\n",
      "2017-07-14 15:01:51,372 INFO    : TestEnv      : External tools using:\n",
      "2017-07-14 15:01:51,374 INFO    : TestEnv      :    ANDROID_HOME: /home/zhifei/zyang/android-sdk-linux\n",
      "2017-07-14 15:01:51,375 INFO    : TestEnv      :    CATAPULT_HOME: /data/lisa_remote/lisa/tools/catapult\n",
      "2017-07-14 15:01:51,377 INFO    : TestEnv      : Devlib modules to load: ['bl', 'cpuidle', 'cpufreq']\n",
      "2017-07-14 15:01:51,381 INFO    : TestEnv      : Connecting Android target [DEFAULT]\n",
      "2017-07-14 15:01:51,382 INFO    : TestEnv      : Connection settings:\n",
      "2017-07-14 15:01:51,383 INFO    : TestEnv      :    None\n",
      "2017-07-14 15:01:52,299 INFO    : TestEnv      : Initializing target workdir:\n",
      "2017-07-14 15:01:52,305 INFO    : TestEnv      :    /data/local/tmp/devlib-target\n",
      "2017-07-14 15:01:55,374 INFO    : TestEnv      : Topology:\n",
      "2017-07-14 15:01:55,380 INFO    : TestEnv      :    [[0, 1, 2, 3], [4, 5, 6, 7]]\n",
      "2017-07-14 15:01:55,696 INFO    : TestEnv      : Loading default EM:\n",
      "2017-07-14 15:01:55,700 INFO    : TestEnv      :    /data/lisa_remote/lisa/libs/utils/platforms/hikey960.json\n",
      "2017-07-14 15:01:55,702 DEBUG   : JsonConf     : loading JSON...\n",
      "2017-07-14 15:01:55,705 DEBUG   : JsonConf     : Loaded JSON configuration:\n",
      "2017-07-14 15:01:55,709 DEBUG   : JsonConf     :    {u'nrg_model': {u'big': {u'cluster': {u'nrg_max': 118}, u'cpu': {u'cap_max': 1024, u'nrg_max': 1715}}, u'little': {u'cluster': {u'nrg_max': 70}, u'cpu': {u'cap_max': 870, u'nrg_max': 1210}}}, u'board': {u'big_core': u'A73_1', u'cores': [u'A53_0', u'A53_0', u'A53_0', u'A53_0', u'A73_1', u'A73_1', u'A73_1', u'A73_1'], u'modules': [u'bl', u'cpufreq', u'cpuidle']}}\n",
      "2017-07-14 15:01:56,388 INFO    : TestEnv      : Enabled tracepoints:\n",
      "2017-07-14 15:01:56,394 INFO    : TestEnv      :    sched_switch\n",
      "2017-07-14 15:01:56,403 INFO    : TestEnv      :    cpu_frequency\n",
      "2017-07-14 15:01:56,409 WARNING : TestEnv      : Using configuration provided RTApp calibration\n",
      "2017-07-14 15:01:56,414 INFO    : TestEnv      : Using RT-App calibration values:\n",
      "2017-07-14 15:01:56,420 INFO    : TestEnv      :    {\"0\": 301, \"1\": 301, \"2\": 301, \"3\": 301, \"4\": 226, \"5\": 226, \"6\": 226, \"7\": 226}\n",
      "2017-07-14 15:01:56,424 WARNING : TestEnv      : Wipe previous contents of the results folder:\n",
      "2017-07-14 15:01:56,427 WARNING : TestEnv      :    /data/lisa_remote/lisa/results/WlgenExample_hikey960\n",
      "2017-07-14 15:01:56,433 INFO    : TestEnv      : Set results folder to:\n",
      "2017-07-14 15:01:56,440 INFO    : TestEnv      :    /data/lisa_remote/lisa/results/WlgenExample_hikey960\n",
      "2017-07-14 15:01:56,442 INFO    : TestEnv      : Experiment results available also in:\n",
      "2017-07-14 15:01:56,444 INFO    : TestEnv      :    /data/lisa_remote/lisa/results_latest\n"
     ]
    }
   ],
   "source": [
    "# Support to access the remote target\n",
    "from env import TestEnv\n",
    "\n",
    "# Initialize a test environment using:\n",
    "# the provided target configuration (my_target_conf)\n",
    "# the provided test configuration   (my_test_conf)\n",
    "te = TestEnv(conf)\n",
    "target = te.target"
   ]
  },
  {
   "cell_type": "markdown",
   "metadata": {},
   "source": [
    "## Workload execution utility"
   ]
  },
  {
   "cell_type": "code",
   "execution_count": 7,
   "metadata": {
    "collapsed": false
   },
   "outputs": [],
   "source": [
    "#\n",
    "# if Hikey960 board has AEP or ACME connection, set below variable as 1\n",
    "# or else set it as 0\n",
    "#\n",
    "hikey960_has_energy_meter = 0\n",
    "\n",
    "\n",
    "def execute(te, wload, res_dir):\n",
    "    \n",
    "    logging.info('# Create results folder for this execution')\n",
    "    !mkdir {res_dir}\n",
    "    \n",
    "    logging.info('# Setup FTrace')\n",
    "    te.ftrace.start()\n",
    "\n",
    "    if hikey960_has_energy_meter:\n",
    "        logging.info('## Start energy sampling')\n",
    "        te.emeter.reset()\n",
    "\n",
    "    logging.info('### Start RTApp execution')\n",
    "    wload.run(out_dir=res_dir)\n",
    "\n",
    "    if hikey960_has_energy_meter:\n",
    "        logging.info('## Read energy consumption: %s/energy.json', res_dir)\n",
    "        nrg_report = te.emeter.report(out_dir=res_dir)\n",
    "    else:\n",
    "        nrg_report = None\n",
    "\n",
    "    logging.info('# Stop FTrace')\n",
    "    te.ftrace.stop()\n",
    "\n",
    "    trace_file = os.path.join(res_dir, 'trace.dat')\n",
    "    logging.info('# Save FTrace: %s', trace_file)\n",
    "    te.ftrace.get_trace(trace_file)\n",
    "\n",
    "    logging.info('# Save platform description: %s/platform.json', res_dir)\n",
    "    plt, plt_file = te.platform_dump(res_dir)\n",
    "    \n",
    "    logging.info('# Report collected data:')\n",
    "    logging.info('   %s', res_dir)\n",
    "    !ls -la {res_dir}\n",
    "    \n",
    "    return nrg_report, plt, plt_file, trace_file"
   ]
  },
  {
   "cell_type": "markdown",
   "metadata": {},
   "source": [
    "# Single task RTApp workload"
   ]
  },
  {
   "cell_type": "markdown",
   "metadata": {},
   "source": [
    "## 1) creation"
   ]
  },
  {
   "cell_type": "code",
   "execution_count": 8,
   "metadata": {
    "collapsed": false
   },
   "outputs": [
    {
     "name": "stderr",
     "output_type": "stream",
     "text": [
      "2017-07-14 15:02:30,017 INFO    : Workload     : Setup new workload example1\n"
     ]
    }
   ],
   "source": [
    "# Support to configure and run RTApp based workloads\n",
    "from wlgen import RTA\n",
    "\n",
    "# Create a new RTApp workload generator using the calibration values\n",
    "# reported by the TestEnv module\n",
    "rtapp_name = 'example1'\n",
    "rtapp = RTA(target, rtapp_name, calibration=te.calibration())"
   ]
  },
  {
   "cell_type": "markdown",
   "metadata": {},
   "source": [
    "## 2) configuration"
   ]
  },
  {
   "cell_type": "code",
   "execution_count": 9,
   "metadata": {
    "collapsed": false
   },
   "outputs": [
    {
     "name": "stderr",
     "output_type": "stream",
     "text": [
      "2017-07-14 15:02:31,836 INFO    : Workload     : Workload duration defined by longest task\n",
      "2017-07-14 15:02:31,839 INFO    : Workload     : Default policy: SCHED_OTHER\n",
      "2017-07-14 15:02:31,845 INFO    : Workload     : ------------------------\n",
      "2017-07-14 15:02:31,846 INFO    : Workload     : task [task_p20], sched: {'policy': 'OTHER', 'priotity': 130}\n",
      "2017-07-14 15:02:31,852 INFO    : Workload     :  | calibration CPU: 4\n",
      "2017-07-14 15:02:31,857 INFO    : Workload     :  | loops count: 1\n",
      "2017-07-14 15:02:31,858 INFO    : Workload     :  | CPUs affinity: 0\n",
      "2017-07-14 15:02:31,859 INFO    : Workload     : + phase_000001: duration 5.000000 [s] (50 loops)\n",
      "2017-07-14 15:02:31,864 INFO    : Workload     : |  period   100000 [us], duty_cycle  20 %\n",
      "2017-07-14 15:02:31,869 INFO    : Workload     : |  run_time  20000 [us], sleep_time  80000 [us]\n"
     ]
    }
   ],
   "source": [
    "# RTApp configurator for generation of PERIODIC tasks\n",
    "from wlgen import Periodic \n",
    "\n",
    "# Configure this RTApp instance to:\n",
    "rtapp.conf(\n",
    "\n",
    "    # 1. generate a \"profile based\" set of tasks\n",
    "    kind = 'profile',\n",
    "    \n",
    "    # 2. define the \"profile\" of each task\n",
    "    params = {\n",
    "        \n",
    "        # 3. PERIODIC task with\n",
    "        'task_p20': Periodic (\n",
    "            period_ms      = 100, # period [ms]\n",
    "            duty_cycle_pct =  20, # duty cycle [%]\n",
    "            duration_s     =  5,  # duration [s]\n",
    "            delay_s        =  0,  # start after that delay [s]\n",
    "            sched          = {    # run as a low-priority SCHED_OTHER task\n",
    "                'policy'   : 'OTHER',\n",
    "                'priotity' : 130,\n",
    "            },\n",
    "            cpus           =      # pinned on first online CPU\n",
    "                              str(target.list_online_cpus()[0])\n",
    "            # ADD OTHER PARAMETERS\n",
    "        ).get(),\n",
    "\n",
    "    },\n",
    "    \n",
    ");"
   ]
  },
  {
   "cell_type": "code",
   "execution_count": 10,
   "metadata": {
    "collapsed": false
   },
   "outputs": [
    {
     "name": "stderr",
     "output_type": "stream",
     "text": [
      "2017-07-14 15:02:35,846 INFO    : root         : Generated RTApp JSON file:\n"
     ]
    },
    {
     "name": "stdout",
     "output_type": "stream",
     "text": [
      "{\n",
      "    \"global\": {\n",
      "        \"calibration\": 226, \n",
      "        \"default_policy\": \"SCHED_OTHER\", \n",
      "        \"duration\": -1, \n",
      "        \"logdir\": \"/data/local/tmp/devlib-target\"\n",
      "    }, \n",
      "    \"tasks\": {\n",
      "        \"task_p20\": {\n",
      "            \"cpus\": [\n",
      "                0\n",
      "            ], \n",
      "            \"loop\": 1, \n",
      "            \"phases\": {\n",
      "                \"p000001\": {\n",
      "                    \"loop\": 50, \n",
      "                    \"run\": 20000, \n",
      "                    \"timer\": {\n",
      "                        \"period\": 100000, \n",
      "                        \"ref\": \"task_p20\"\n",
      "                    }\n",
      "                }\n",
      "            }, \n",
      "            \"policy\": \"SCHED_OTHER\", \n",
      "            \"priotity\": 130\n",
      "        }\n",
      "    }\n",
      "}\n"
     ]
    }
   ],
   "source": [
    "# Inspect the JSON file used to run the application\n",
    "with open('./{}_00.json'.format(rtapp_name), 'r') as fh:\n",
    "    rtapp_json = json.load(fh)\n",
    "logging.info('Generated RTApp JSON file:')\n",
    "print json.dumps(rtapp_json, indent=4, sort_keys=True)"
   ]
  },
  {
   "cell_type": "markdown",
   "metadata": {},
   "source": [
    "## 3) execution"
   ]
  },
  {
   "cell_type": "code",
   "execution_count": 11,
   "metadata": {
    "collapsed": false
   },
   "outputs": [
    {
     "name": "stderr",
     "output_type": "stream",
     "text": [
      "2017-07-14 15:03:18,095 INFO    : root         : # Create results folder for this execution\n",
      "2017-07-14 15:03:18,215 INFO    : root         : # Setup FTrace\n",
      "2017-07-14 15:03:20,617 DEBUG   : FtraceCollector : Trace CPUFreq frequencies\n",
      "2017-07-14 15:03:20,740 DEBUG   : FtraceCollector : Trace CPUIdle states\n",
      "2017-07-14 15:03:20,833 INFO    : root         : ### Start RTApp execution\n",
      "2017-07-14 15:03:20,837 INFO    : Workload     : Workload execution START:\n",
      "2017-07-14 15:03:20,840 INFO    : Workload     :    /data/local/tmp/bin/rt-app /data/local/tmp/devlib-target/example1_00.json 2>&1\n"
     ]
    },
    {
     "name": "stdout",
     "output_type": "stream",
     "text": [
      "\n"
     ]
    },
    {
     "name": "stderr",
     "output_type": "stream",
     "text": [
      "2017-07-14 15:03:26,186 INFO    : root         : # Stop FTrace\n",
      "2017-07-14 15:03:26,193 DEBUG   : FtraceCollector : Trace CPUFreq frequencies\n",
      "2017-07-14 15:03:26,409 INFO    : root         : # Save FTrace: /data/lisa_remote/lisa/results/WlgenExample_hikey960/example1/trace.dat\n",
      "2017-07-14 15:03:28,315 INFO    : root         : # Save platform description: /data/lisa_remote/lisa/results/WlgenExample_hikey960/example1/platform.json\n",
      "2017-07-14 15:03:28,326 INFO    : root         : # Report collected data:\n",
      "2017-07-14 15:03:28,331 INFO    : root         :    /data/lisa_remote/lisa/results/WlgenExample_hikey960/example1\n"
     ]
    },
    {
     "name": "stdout",
     "output_type": "stream",
     "text": [
      "total 4492\r\n",
      "drwxrwxr-x 2 zhifei zhifei    4096 7月  14 15:03 .\r\n",
      "drwxrwxr-x 3 zhifei zhifei    4096 7月  14 15:03 ..\r\n",
      "-rw-r--r-- 1 zhifei zhifei     654 7月  14 15:03 example1_00.json\r\n",
      "-rw-rw-r-- 1 zhifei zhifei     170 7月  14 15:03 output.log\r\n",
      "-rw-rw-r-- 1 zhifei zhifei    1528 7月  14 15:03 platform.json\r\n",
      "-rw-r--r-- 1 zhifei zhifei    6360 7月  14 15:03 rt-app-task_p20-0.log\r\n",
      "-rw-r--r-- 1 zhifei zhifei 4571136 7月  14 15:03 trace.dat\r\n"
     ]
    }
   ],
   "source": [
    "res_dir = os.path.join(te.res_dir, rtapp_name)\n",
    "nrg_report, plt, plt_file, trace_file = execute(te, rtapp, res_dir)"
   ]
  },
  {
   "cell_type": "markdown",
   "metadata": {},
   "source": [
    "## 4) Check collected data"
   ]
  },
  {
   "cell_type": "code",
   "execution_count": 12,
   "metadata": {
    "collapsed": false
   },
   "outputs": [
    {
     "name": "stdout",
     "output_type": "stream",
     "text": [
      "No energy result because there is no energy meter\n"
     ]
    }
   ],
   "source": [
    "# Dump the energy measured for the LITTLE and big clusters\n",
    "\n",
    "if hikey960_has_energy_meter:\n",
    "    logging.info('Energy: %s', nrg_report.report_file)\n",
    "    print json.dumps(nrg_report.channels, indent=4, sort_keys=True)\n",
    "else:\n",
    "    print \"No energy result because there is no energy meter\""
   ]
  },
  {
   "cell_type": "code",
   "execution_count": 13,
   "metadata": {
    "collapsed": false
   },
   "outputs": [
    {
     "name": "stderr",
     "output_type": "stream",
     "text": [
      "2017-07-14 15:03:46,203 INFO    : root         : Platform description: /data/lisa_remote/lisa/results/WlgenExample_hikey960/example1/platform.json\n"
     ]
    },
    {
     "name": "stdout",
     "output_type": "stream",
     "text": [
      "{\n",
      "    \"abi\": \"arm64\", \n",
      "    \"clusters\": {\n",
      "        \"big\": [\n",
      "            4, \n",
      "            5, \n",
      "            6, \n",
      "            7\n",
      "        ], \n",
      "        \"little\": [\n",
      "            0, \n",
      "            1, \n",
      "            2, \n",
      "            3\n",
      "        ]\n",
      "    }, \n",
      "    \"cpus_count\": 8, \n",
      "    \"freqs\": {\n",
      "        \"big\": [\n",
      "            903000, \n",
      "            1421000, \n",
      "            1805000, \n",
      "            2112000, \n",
      "            2362000\n",
      "        ], \n",
      "        \"little\": [\n",
      "            533000, \n",
      "            999000, \n",
      "            1402000, \n",
      "            1709000, \n",
      "            1844000\n",
      "        ]\n",
      "    }, \n",
      "    \"kernel\": {\n",
      "        \"major\": 4, \n",
      "        \"minor\": 59, \n",
      "        \"parts\": [\n",
      "            4, \n",
      "            4, \n",
      "            59\n",
      "        ], \n",
      "        \"rc\": null, \n",
      "        \"release\": \"4.4.59-02536-g679a543\", \n",
      "        \"sha1\": \"679a543\", \n",
      "        \"version\": \"2507 SMP PREEMPT Tue Apr 11 09:52:10 PDT 2017\", \n",
      "        \"version_number\": 4\n",
      "    }, \n",
      "    \"nrg_model\": {\n",
      "        \"big\": {\n",
      "            \"cluster\": {\n",
      "                \"nrg_max\": 118\n",
      "            }, \n",
      "            \"cpu\": {\n",
      "                \"cap_max\": 1024, \n",
      "                \"nrg_max\": 1715\n",
      "            }\n",
      "        }, \n",
      "        \"little\": {\n",
      "            \"cluster\": {\n",
      "                \"nrg_max\": 70\n",
      "            }, \n",
      "            \"cpu\": {\n",
      "                \"cap_max\": 870, \n",
      "                \"nrg_max\": 1210\n",
      "            }\n",
      "        }\n",
      "    }, \n",
      "    \"os\": \"android\", \n",
      "    \"topology\": [\n",
      "        [\n",
      "            0, \n",
      "            1, \n",
      "            2, \n",
      "            3\n",
      "        ], \n",
      "        [\n",
      "            4, \n",
      "            5, \n",
      "            6, \n",
      "            7\n",
      "        ]\n",
      "    ]\n",
      "}\n"
     ]
    }
   ],
   "source": [
    "# Dump the platform descriptor, which could be useful for further analysis\n",
    "# of the generated results\n",
    "logging.info('Platform description: %s', plt_file)\n",
    "print json.dumps(plt, indent=4, sort_keys=True)"
   ]
  },
  {
   "cell_type": "markdown",
   "metadata": {},
   "source": [
    "## 5) trace inspection"
   ]
  },
  {
   "cell_type": "code",
   "execution_count": 14,
   "metadata": {
    "collapsed": false,
    "scrolled": true
   },
   "outputs": [
    {
     "name": "stdout",
     "output_type": "stream",
     "text": [
      "version = 6\r\n"
     ]
    }
   ],
   "source": [
    "!kernelshark {trace_file} 2>/dev/null"
   ]
  },
  {
   "cell_type": "markdown",
   "metadata": {},
   "source": [
    "# Workload composition using RTApp"
   ]
  },
  {
   "cell_type": "markdown",
   "metadata": {},
   "source": [
    "## 1) creation"
   ]
  },
  {
   "cell_type": "code",
   "execution_count": 15,
   "metadata": {
    "collapsed": false
   },
   "outputs": [
    {
     "name": "stderr",
     "output_type": "stream",
     "text": [
      "2017-07-14 15:03:58,018 INFO    : Workload     : Setup new workload example2\n"
     ]
    }
   ],
   "source": [
    "# Support to configure and run RTApp based workloads\n",
    "from wlgen import RTA\n",
    "\n",
    "# Create a new RTApp workload generator using the calibration values\n",
    "# reported by the TestEnv module\n",
    "rtapp_name = 'example2'\n",
    "rtapp = RTA(target, rtapp_name, calibration=te.calibration())"
   ]
  },
  {
   "cell_type": "markdown",
   "metadata": {},
   "source": [
    "## 2) configuration"
   ]
  },
  {
   "cell_type": "code",
   "execution_count": 16,
   "metadata": {
    "collapsed": false
   },
   "outputs": [
    {
     "name": "stderr",
     "output_type": "stream",
     "text": [
      "2017-07-14 15:03:59,495 INFO    : Workload     : Workload duration defined by longest task\n",
      "2017-07-14 15:03:59,499 INFO    : Workload     : Default policy: SCHED_OTHER\n",
      "2017-07-14 15:03:59,500 INFO    : Workload     : ------------------------\n",
      "2017-07-14 15:03:59,504 INFO    : Workload     : task [task_ramp], sched: using default policy\n",
      "2017-07-14 15:03:59,509 INFO    : Workload     :  | calibration CPU: 4\n",
      "2017-07-14 15:03:59,512 INFO    : Workload     :  | loops count: 1\n",
      "2017-07-14 15:03:59,513 INFO    : Workload     :  | CPUs affinity: 4\n",
      "2017-07-14 15:03:59,517 INFO    : Workload     : + phase_000001: duration 1.000000 [s] (100 loops)\n",
      "2017-07-14 15:03:59,518 INFO    : Workload     : |  period    10000 [us], duty_cycle  10 %\n",
      "2017-07-14 15:03:59,525 INFO    : Workload     : |  run_time   1000 [us], sleep_time   9000 [us]\n",
      "2017-07-14 15:03:59,527 INFO    : Workload     : + phase_000002: duration 1.000000 [s] (20 loops)\n",
      "2017-07-14 15:03:59,528 INFO    : Workload     : |  period    50000 [us], duty_cycle  10 %\n",
      "2017-07-14 15:03:59,532 INFO    : Workload     : |  run_time   5000 [us], sleep_time  45000 [us]\n",
      "2017-07-14 15:03:59,537 INFO    : Workload     : + phase_000003: duration 1.000000 [s] (20 loops)\n",
      "2017-07-14 15:03:59,543 INFO    : Workload     : |  period    50000 [us], duty_cycle  30 %\n",
      "2017-07-14 15:03:59,544 INFO    : Workload     : |  run_time  15000 [us], sleep_time  35000 [us]\n",
      "2017-07-14 15:03:59,549 INFO    : Workload     : + phase_000004: duration 1.000000 [s] (20 loops)\n",
      "2017-07-14 15:03:59,553 INFO    : Workload     : |  period    50000 [us], duty_cycle  50 %\n",
      "2017-07-14 15:03:59,554 INFO    : Workload     : |  run_time  25000 [us], sleep_time  25000 [us]\n",
      "2017-07-14 15:03:59,565 INFO    : Workload     : + phase_000005: duration 1.000000 [s] (20 loops)\n",
      "2017-07-14 15:03:59,566 INFO    : Workload     : |  period    50000 [us], duty_cycle  70 %\n",
      "2017-07-14 15:03:59,567 INFO    : Workload     : |  run_time  35000 [us], sleep_time  15000 [us]\n",
      "2017-07-14 15:03:59,567 INFO    : Workload     : + phase_000006: duration 1.000000 [s] (20 loops)\n",
      "2017-07-14 15:03:59,568 INFO    : Workload     : |  period    50000 [us], duty_cycle  90 %\n",
      "2017-07-14 15:03:59,569 INFO    : Workload     : |  run_time  45000 [us], sleep_time   5000 [us]\n",
      "2017-07-14 15:03:59,574 INFO    : Workload     : + phase_000007: duration 0.100000 [s] (1 loops)\n",
      "2017-07-14 15:03:59,578 INFO    : Workload     : |  period   100000 [us], duty_cycle  90 %\n",
      "2017-07-14 15:03:59,581 INFO    : Workload     : |  run_time  90000 [us], sleep_time  10000 [us]\n"
     ]
    }
   ],
   "source": [
    "# RTApp configurator for generation of PERIODIC tasks\n",
    "from wlgen import Periodic, Ramp\n",
    "\n",
    "# Light workload\n",
    "light  = Periodic(duty_cycle_pct=10, duration_s=1.0, period_ms= 10,\n",
    "              cpus=str(target.bl.bigs_online[0]))\n",
    "# Ramp workload\n",
    "ramp   = Ramp(start_pct=10, end_pct=90, delta_pct=20, time_s=1, period_ms=50)\n",
    "# Heavy workload\n",
    "heavy  = Periodic(duty_cycle_pct=90, duration_s=0.1, period_ms=100)\n",
    "\n",
    "# Composed workload\n",
    "lrh_task = light + ramp + heavy\n",
    "\n",
    "# Configure this RTApp instance to:\n",
    "rtapp.conf(\n",
    "\n",
    "    # 1. generate a \"profile based\" set of tasks\n",
    "    kind = 'profile',\n",
    "    \n",
    "    # 2. define the \"profile\" of each task\n",
    "    params = {\n",
    "        \n",
    "        # 3. PERIODIC task with\n",
    "        'task_ramp': lrh_task.get() \n",
    "\n",
    "    },\n",
    "    \n",
    ");"
   ]
  },
  {
   "cell_type": "code",
   "execution_count": 17,
   "metadata": {
    "collapsed": false
   },
   "outputs": [
    {
     "name": "stderr",
     "output_type": "stream",
     "text": [
      "2017-07-14 15:04:03,379 INFO    : root         : Generated RTApp JSON file:\n"
     ]
    },
    {
     "name": "stdout",
     "output_type": "stream",
     "text": [
      "{\n",
      "    \"global\": {\n",
      "        \"calibration\": 226, \n",
      "        \"default_policy\": \"SCHED_OTHER\", \n",
      "        \"duration\": -1, \n",
      "        \"logdir\": \"/data/local/tmp/devlib-target\"\n",
      "    }, \n",
      "    \"tasks\": {\n",
      "        \"task_ramp\": {\n",
      "            \"cpus\": [\n",
      "                4\n",
      "            ], \n",
      "            \"loop\": 1, \n",
      "            \"phases\": {\n",
      "                \"p000001\": {\n",
      "                    \"loop\": 100, \n",
      "                    \"run\": 1000, \n",
      "                    \"timer\": {\n",
      "                        \"period\": 10000, \n",
      "                        \"ref\": \"task_ramp\"\n",
      "                    }\n",
      "                }, \n",
      "                \"p000002\": {\n",
      "                    \"loop\": 20, \n",
      "                    \"run\": 5000, \n",
      "                    \"timer\": {\n",
      "                        \"period\": 50000, \n",
      "                        \"ref\": \"task_ramp\"\n",
      "                    }\n",
      "                }, \n",
      "                \"p000003\": {\n",
      "                    \"loop\": 20, \n",
      "                    \"run\": 15000, \n",
      "                    \"timer\": {\n",
      "                        \"period\": 50000, \n",
      "                        \"ref\": \"task_ramp\"\n",
      "                    }\n",
      "                }, \n",
      "                \"p000004\": {\n",
      "                    \"loop\": 20, \n",
      "                    \"run\": 25000, \n",
      "                    \"timer\": {\n",
      "                        \"period\": 50000, \n",
      "                        \"ref\": \"task_ramp\"\n",
      "                    }\n",
      "                }, \n",
      "                \"p000005\": {\n",
      "                    \"loop\": 20, \n",
      "                    \"run\": 35000, \n",
      "                    \"timer\": {\n",
      "                        \"period\": 50000, \n",
      "                        \"ref\": \"task_ramp\"\n",
      "                    }\n",
      "                }, \n",
      "                \"p000006\": {\n",
      "                    \"loop\": 20, \n",
      "                    \"run\": 45000, \n",
      "                    \"timer\": {\n",
      "                        \"period\": 50000, \n",
      "                        \"ref\": \"task_ramp\"\n",
      "                    }\n",
      "                }, \n",
      "                \"p000007\": {\n",
      "                    \"loop\": 1, \n",
      "                    \"run\": 90000, \n",
      "                    \"timer\": {\n",
      "                        \"period\": 100000, \n",
      "                        \"ref\": \"task_ramp\"\n",
      "                    }\n",
      "                }\n",
      "            }, \n",
      "            \"policy\": \"SCHED_OTHER\"\n",
      "        }\n",
      "    }\n",
      "}\n"
     ]
    }
   ],
   "source": [
    "# Inspect the JSON file used to run the application\n",
    "with open('./{}_00.json'.format(rtapp_name), 'r') as fh:\n",
    "    rtapp_json = json.load(fh)\n",
    "logging.info('Generated RTApp JSON file:')\n",
    "print json.dumps(rtapp_json, indent=4, sort_keys=True)"
   ]
  },
  {
   "cell_type": "markdown",
   "metadata": {},
   "source": [
    "## 3) execution"
   ]
  },
  {
   "cell_type": "code",
   "execution_count": 18,
   "metadata": {
    "collapsed": false
   },
   "outputs": [
    {
     "name": "stderr",
     "output_type": "stream",
     "text": [
      "2017-07-14 15:04:19,393 INFO    : root         : # Create results folder for this execution\n",
      "2017-07-14 15:04:19,513 INFO    : root         : # Setup FTrace\n",
      "2017-07-14 15:04:21,960 DEBUG   : FtraceCollector : Trace CPUFreq frequencies\n",
      "2017-07-14 15:04:22,083 DEBUG   : FtraceCollector : Trace CPUIdle states\n",
      "2017-07-14 15:04:22,190 INFO    : root         : ### Start RTApp execution\n",
      "2017-07-14 15:04:22,192 INFO    : Workload     : Workload execution START:\n",
      "2017-07-14 15:04:22,196 INFO    : Workload     :    /data/local/tmp/bin/rt-app /data/local/tmp/devlib-target/example2_00.json 2>&1\n"
     ]
    },
    {
     "name": "stdout",
     "output_type": "stream",
     "text": [
      "\n"
     ]
    },
    {
     "name": "stderr",
     "output_type": "stream",
     "text": [
      "2017-07-14 15:04:28,579 INFO    : root         : # Stop FTrace\n",
      "2017-07-14 15:04:28,585 DEBUG   : FtraceCollector : Trace CPUFreq frequencies\n",
      "2017-07-14 15:04:28,820 INFO    : root         : # Save FTrace: /data/lisa_remote/lisa/results/WlgenExample_hikey960/example2/trace.dat\n",
      "2017-07-14 15:04:30,677 INFO    : root         : # Save platform description: /data/lisa_remote/lisa/results/WlgenExample_hikey960/example2/platform.json\n",
      "2017-07-14 15:04:30,685 INFO    : root         : # Report collected data:\n",
      "2017-07-14 15:04:30,688 INFO    : root         :    /data/lisa_remote/lisa/results/WlgenExample_hikey960/example2\n"
     ]
    },
    {
     "name": "stdout",
     "output_type": "stream",
     "text": [
      "total 4548\r\n",
      "drwxrwxr-x 2 zhifei zhifei    4096 7月  14 15:04 .\r\n",
      "drwxrwxr-x 4 zhifei zhifei    4096 7月  14 15:04 ..\r\n",
      "-rw-r--r-- 1 zhifei zhifei    2131 7月  14 15:04 example2_00.json\r\n",
      "-rw-rw-r-- 1 zhifei zhifei     170 7月  14 15:04 output.log\r\n",
      "-rw-rw-r-- 1 zhifei zhifei    1528 7月  14 15:04 platform.json\r\n",
      "-rw-r--r-- 1 zhifei zhifei   25084 7月  14 15:04 rt-app-task_ramp-0.log\r\n",
      "-rw-r--r-- 1 zhifei zhifei 4608000 7月  14 15:04 trace.dat\r\n"
     ]
    }
   ],
   "source": [
    "res_dir = os.path.join(te.res_dir, rtapp_name)\n",
    "nrg_report, plt, plt_file, trace_file = execute(te, rtapp, res_dir)"
   ]
  },
  {
   "cell_type": "markdown",
   "metadata": {},
   "source": [
    "## 4) trace inspection"
   ]
  },
  {
   "cell_type": "code",
   "execution_count": 19,
   "metadata": {
    "collapsed": false
   },
   "outputs": [
    {
     "name": "stdout",
     "output_type": "stream",
     "text": [
      "version = 6\r\n"
     ]
    }
   ],
   "source": [
    "!kernelshark {trace_file} 2>/dev/null"
   ]
  },
  {
   "cell_type": "markdown",
   "metadata": {},
   "source": [
    "# Custom RTApp connfiguration"
   ]
  },
  {
   "cell_type": "code",
   "execution_count": 20,
   "metadata": {
    "collapsed": false
   },
   "outputs": [
    {
     "name": "stderr",
     "output_type": "stream",
     "text": [
      "2017-07-14 15:04:46,659 INFO    : Workload     : Setup new workload example3\n",
      "2017-07-14 15:04:46,776 INFO    : Workload     : Loading custom configuration:\n",
      "2017-07-14 15:04:46,778 INFO    : Workload     :    ../../../assets/mp3-short.json\n"
     ]
    }
   ],
   "source": [
    "# Support to configure and run RTApp based workloads\n",
    "from wlgen import RTA\n",
    "\n",
    "# Create a new RTApp workload generator using the calibration values\n",
    "# reported by the TestEnv module\n",
    "rtapp_name = 'example3'\n",
    "rtapp = RTA(target, rtapp_name, calibration=te.calibration())\n",
    "\n",
    "# Configure this RTApp to use a custom JSON\n",
    "rtapp.conf(\n",
    "\n",
    "    # 1. generate a \"custom\" set of tasks\n",
    "    kind = 'custom',\n",
    "    \n",
    "    # 2. define the \"profile\" of each task\n",
    "    params = \"../../../assets/mp3-short.json\",\n",
    "    \n",
    "    # In this case only few values of the orignal JSON can be tuned:\n",
    "    #    DURATION : maximum duration of the workload [s]\n",
    "    #    PVALUE   : calibration value\n",
    "    #    LOGDIR   : folder used for generated logs\n",
    "    #    WORKDIR  : working directory on target\n",
    "    \n",
    "    # 3. defined a maximum duration for that workload\n",
    "    duration = 5,\n",
    "    \n",
    ");"
   ]
  },
  {
   "cell_type": "code",
   "execution_count": 21,
   "metadata": {
    "collapsed": false
   },
   "outputs": [
    {
     "name": "stderr",
     "output_type": "stream",
     "text": [
      "2017-07-14 15:04:47,287 INFO    : root         : # Create results folder for this execution\n",
      "2017-07-14 15:04:47,401 INFO    : root         : # Setup FTrace\n",
      "2017-07-14 15:04:49,825 DEBUG   : FtraceCollector : Trace CPUFreq frequencies\n",
      "2017-07-14 15:04:49,930 DEBUG   : FtraceCollector : Trace CPUIdle states\n",
      "2017-07-14 15:04:50,017 INFO    : root         : ### Start RTApp execution\n",
      "2017-07-14 15:04:50,025 INFO    : Workload     : Workload execution START:\n",
      "2017-07-14 15:04:50,026 INFO    : Workload     :    /data/local/tmp/bin/rt-app /data/local/tmp/devlib-target/example3_00.json 2>&1\n"
     ]
    },
    {
     "name": "stdout",
     "output_type": "stream",
     "text": [
      "\n"
     ]
    },
    {
     "name": "stderr",
     "output_type": "stream",
     "text": [
      "2017-07-14 15:04:55,968 INFO    : root         : # Stop FTrace\n",
      "2017-07-14 15:04:55,977 DEBUG   : FtraceCollector : Trace CPUFreq frequencies\n",
      "2017-07-14 15:04:56,182 INFO    : root         : # Save FTrace: /data/lisa_remote/lisa/results/WlgenExample_hikey960/example3/trace.dat\n",
      "2017-07-14 15:04:58,038 INFO    : root         : # Save platform description: /data/lisa_remote/lisa/results/WlgenExample_hikey960/example3/platform.json\n",
      "2017-07-14 15:04:58,046 INFO    : root         : # Report collected data:\n",
      "2017-07-14 15:04:58,052 INFO    : root         :    /data/lisa_remote/lisa/results/WlgenExample_hikey960/example3\n"
     ]
    },
    {
     "name": "stdout",
     "output_type": "stream",
     "text": [
      "total 4952\r\n",
      "drwxrwxr-x 2 zhifei zhifei    4096 7月  14 15:04 .\r\n",
      "drwxrwxr-x 5 zhifei zhifei    4096 7月  14 15:04 ..\r\n",
      "-rw-r--r-- 1 zhifei zhifei    1334 7月  14 15:04 example3_00.json\r\n",
      "-rw-r--r-- 1 zhifei zhifei   20746 7月  14 15:04 mp3-AudioOut-1.log\r\n",
      "-rw-r--r-- 1 zhifei zhifei  103206 7月  14 15:04 mp3-AudioTick-0.log\r\n",
      "-rw-r--r-- 1 zhifei zhifei   20870 7月  14 15:04 mp3-AudioTrack-2.log\r\n",
      "-rw-r--r-- 1 zhifei zhifei   20869 7月  14 15:04 mp3-mp3.decoder-3.log\r\n",
      "-rw-r--r-- 1 zhifei zhifei   20745 7月  14 15:04 mp3-OMXCall-4.log\r\n",
      "-rw-rw-r-- 1 zhifei zhifei     726 7月  14 15:04 output.log\r\n",
      "-rw-rw-r-- 1 zhifei zhifei    1528 7月  14 15:04 platform.json\r\n",
      "-rw-r--r-- 1 zhifei zhifei 4845568 7月  14 15:04 trace.dat\r\n"
     ]
    }
   ],
   "source": [
    "res_dir = os.path.join(te.res_dir, rtapp_name)\n",
    "nrg_report, plt, plt_file, trace_file = execute(te, rtapp, res_dir)"
   ]
  },
  {
   "cell_type": "code",
   "execution_count": 22,
   "metadata": {
    "collapsed": false
   },
   "outputs": [
    {
     "name": "stderr",
     "output_type": "stream",
     "text": [
      "2017-07-14 15:04:58,197 INFO    : root         : Generated RTApp JSON file:\n"
     ]
    },
    {
     "name": "stdout",
     "output_type": "stream",
     "text": [
      "{\n",
      "    \"global\": {\n",
      "        \"calibration\": 226, \n",
      "        \"default_policy\": \"SCHED_OTHER\", \n",
      "        \"duration\": 5, \n",
      "        \"frag\": 1, \n",
      "        \"ftrace\": false, \n",
      "        \"gnuplot\": false, \n",
      "        \"lock_pages\": true, \n",
      "        \"log_basename\": \"mp3\", \n",
      "        \"logdir\": \"/data/local/tmp/devlib-target\"\n",
      "    }, \n",
      "    \"tasks\": {\n",
      "        \"AudioOut\": {\n",
      "            \"loop\": -1, \n",
      "            \"priority\": -19, \n",
      "            \"resume\": \"AudioTrack\", \n",
      "            \"run\": 4725, \n",
      "            \"suspend\": \"AudioOut\"\n",
      "        }, \n",
      "        \"AudioTick\": {\n",
      "            \"cpus\": [\n",
      "                0\n",
      "            ], \n",
      "            \"loop\": -1, \n",
      "            \"phases\": {\n",
      "                \"p1\": {\n",
      "                    \"loop\": 1, \n",
      "                    \"resume\": \"AudioOut\", \n",
      "                    \"timer\": {\n",
      "                        \"period\": 6000, \n",
      "                        \"ref\": \"tick\"\n",
      "                    }\n",
      "                }, \n",
      "                \"p2\": {\n",
      "                    \"loop\": 4, \n",
      "                    \"timer\": {\n",
      "                        \"period\": 6000, \n",
      "                        \"ref\": \"tick\"\n",
      "                    }\n",
      "                }\n",
      "            }, \n",
      "            \"priority\": -19\n",
      "        }, \n",
      "        \"AudioTrack\": {\n",
      "            \"loop\": -1, \n",
      "            \"priority\": -16, \n",
      "            \"resume\": \"mp3.decoder\", \n",
      "            \"run\": 300, \n",
      "            \"suspend\": \"AudioTrack\"\n",
      "        }, \n",
      "        \"OMXCall\": {\n",
      "            \"lock\": \"mutex\", \n",
      "            \"loop\": -1, \n",
      "            \"priority\": -2, \n",
      "            \"run\": 300, \n",
      "            \"signal\": \"queue\", \n",
      "            \"unlock\": \"mutex\", \n",
      "            \"wait\": {\n",
      "                \"mutex\": \"mutex\", \n",
      "                \"ref\": \"queue\"\n",
      "            }\n",
      "        }, \n",
      "        \"mp3.decoder\": {\n",
      "            \"lock\": \"mutex\", \n",
      "            \"loop\": -1, \n",
      "            \"priority\": -2, \n",
      "            \"run\": 150, \n",
      "            \"signal\": \"queue\", \n",
      "            \"suspend\": \"mp3.decoder\", \n",
      "            \"unlock\": \"mutex\", \n",
      "            \"wait\": {\n",
      "                \"mutex\": \"mutex\", \n",
      "                \"ref\": \"queue\"\n",
      "            }\n",
      "        }\n",
      "    }\n",
      "}\n"
     ]
    }
   ],
   "source": [
    "# Inspect the JSON file used to run the application\n",
    "with open('./{}_00.json'.format(rtapp_name), 'r') as fh:\n",
    "    rtapp_json = json.load(fh)\n",
    "logging.info('Generated RTApp JSON file:')\n",
    "print json.dumps(rtapp_json, indent=4, sort_keys=True)"
   ]
  },
  {
   "cell_type": "code",
   "execution_count": 23,
   "metadata": {
    "collapsed": false
   },
   "outputs": [
    {
     "name": "stdout",
     "output_type": "stream",
     "text": [
      "version = 6\r\n"
     ]
    }
   ],
   "source": [
    "!kernelshark {trace_file} 2>/dev/null"
   ]
  },
  {
   "cell_type": "markdown",
   "metadata": {},
   "source": [
    "# Running Hackbench"
   ]
  },
  {
   "cell_type": "markdown",
   "metadata": {},
   "source": [
    "## 1) creation and configuration"
   ]
  },
  {
   "cell_type": "code",
   "execution_count": 24,
   "metadata": {
    "collapsed": false
   },
   "outputs": [
    {
     "name": "stderr",
     "output_type": "stream",
     "text": [
      "2017-07-14 15:05:01,585 INFO    : Workload     : Setup new workload hackbench\n",
      "2017-07-14 15:05:01,680 DEBUG   : perf_bench   :      PerfBench - Command line: /data/local/tmp/bin/perf bench sched messaging --pipe --thread --group 1 --loop 100\n"
     ]
    },
    {
     "data": {
      "text/plain": [
       "'hackbench_00'"
      ]
     },
     "execution_count": 24,
     "metadata": {},
     "output_type": "execute_result"
    }
   ],
   "source": [
    "# Support to configure and run RTApp based workloads\n",
    "from wlgen import PerfMessaging\n",
    "\n",
    "# Create a \"perf bench sched messages\" (i.e. hackbench) workload\n",
    "perf_name = 'hackbench'\n",
    "perf = PerfMessaging(target, perf_name)\n",
    "\n",
    "perf.conf(group=1, loop=100, pipe=True, thread=True)\n"
   ]
  },
  {
   "cell_type": "markdown",
   "metadata": {},
   "source": [
    "## 2) execution"
   ]
  },
  {
   "cell_type": "code",
   "execution_count": 25,
   "metadata": {
    "collapsed": false
   },
   "outputs": [
    {
     "name": "stderr",
     "output_type": "stream",
     "text": [
      "2017-07-14 15:05:01,747 INFO    : root         : # Create results folder for this execution\n",
      "2017-07-14 15:05:01,866 INFO    : root         : # Setup FTrace\n",
      "2017-07-14 15:05:04,270 DEBUG   : FtraceCollector : Trace CPUFreq frequencies\n",
      "2017-07-14 15:05:04,365 DEBUG   : FtraceCollector : Trace CPUIdle states\n",
      "2017-07-14 15:05:04,470 INFO    : root         : ### Start RTApp execution\n",
      "2017-07-14 15:05:04,473 INFO    : Workload     : Workload execution START:\n",
      "2017-07-14 15:05:04,474 INFO    : Workload     :    /data/local/tmp/bin/perf bench sched messaging --pipe --thread --group 1 --loop 100\n",
      "2017-07-14 15:05:04,626 DEBUG   : perf_bench   :      PerfBench - Saving output on [/data/lisa_remote/lisa/results/WlgenExample_hikey960/hackbench/output.log]...\n",
      "2017-07-14 15:05:04,629 INFO    : perf_bench   :      PerfBench - Completion time: 0.090000, Performance 11.111111\n",
      "2017-07-14 15:05:04,633 DEBUG   : perf_bench   :      PerfBench - Saving performance into [/data/lisa_remote/lisa/results/WlgenExample_hikey960/hackbench/performance.json]...\n",
      "2017-07-14 15:05:04,637 INFO    : root         : # Stop FTrace\n",
      "2017-07-14 15:05:04,641 DEBUG   : FtraceCollector : Trace CPUFreq frequencies\n"
     ]
    },
    {
     "name": "stdout",
     "output_type": "stream",
     "text": [
      "\n"
     ]
    },
    {
     "name": "stderr",
     "output_type": "stream",
     "text": [
      "2017-07-14 15:05:04,925 INFO    : root         : # Save FTrace: /data/lisa_remote/lisa/results/WlgenExample_hikey960/hackbench/trace.dat\n",
      "2017-07-14 15:05:06,934 INFO    : root         : # Save platform description: /data/lisa_remote/lisa/results/WlgenExample_hikey960/hackbench/platform.json\n",
      "2017-07-14 15:05:06,953 INFO    : root         : # Report collected data:\n",
      "2017-07-14 15:05:06,959 INFO    : root         :    /data/lisa_remote/lisa/results/WlgenExample_hikey960/hackbench\n"
     ]
    },
    {
     "name": "stdout",
     "output_type": "stream",
     "text": [
      "total 4988\r\n",
      "drwxrwxr-x 2 zhifei zhifei    4096 7月  14 15:05 .\r\n",
      "drwxrwxr-x 6 zhifei zhifei    4096 7月  14 15:05 ..\r\n",
      "-rw-rw-r-- 1 zhifei zhifei     142 7月  14 15:05 output.log\r\n",
      "-rw-rw-r-- 1 zhifei zhifei      60 7月  14 15:05 performance.json\r\n",
      "-rw-rw-r-- 1 zhifei zhifei    1528 7月  14 15:05 platform.json\r\n",
      "-rw-r--r-- 1 zhifei zhifei 5087232 7月  14 15:05 trace.dat\r\n"
     ]
    }
   ],
   "source": [
    "res_dir = os.path.join(te.res_dir, perf_name)\n",
    "nrg_report, plt, plt_file, trace_file = execute(te, perf, res_dir)"
   ]
  },
  {
   "cell_type": "markdown",
   "metadata": {},
   "source": [
    "## 3) explore the performance report"
   ]
  },
  {
   "cell_type": "code",
   "execution_count": 26,
   "metadata": {
    "collapsed": false
   },
   "outputs": [
    {
     "name": "stderr",
     "output_type": "stream",
     "text": [
      "2017-07-14 15:05:07,116 INFO    : root         : Generated performance JSON file:\n"
     ]
    },
    {
     "name": "stdout",
     "output_type": "stream",
     "text": [
      "{\n",
      "    \"ctime\": 0.09, \n",
      "    \"performance\": 11.11111111111111\n",
      "}\n"
     ]
    }
   ],
   "source": [
    "# Inspect the generated performance report\n",
    "perf_file = os.path.join(te.res_dir, perf_name, 'performance.json')\n",
    "with open(perf_file, 'r') as fh:\n",
    "    perf_json = json.load(fh)\n",
    "logging.info('Generated performance JSON file:')\n",
    "print json.dumps(perf_json, indent=4, sort_keys=True)"
   ]
  },
  {
   "cell_type": "markdown",
   "metadata": {},
   "source": [
    "## 4) trace inspection "
   ]
  },
  {
   "cell_type": "code",
   "execution_count": 27,
   "metadata": {
    "collapsed": false
   },
   "outputs": [
    {
     "name": "stdout",
     "output_type": "stream",
     "text": [
      "version = 6\r\n"
     ]
    }
   ],
   "source": [
    "!kernelshark {trace_file} 2>/dev/null"
   ]
  },
  {
   "cell_type": "code",
   "execution_count": null,
   "metadata": {
    "collapsed": true
   },
   "outputs": [],
   "source": []
  }
 ],
 "metadata": {
  "celltoolbar": "Raw Cell Format",
  "kernelspec": {
   "display_name": "Python 2",
   "language": "python",
   "name": "python2"
  },
  "language_info": {
   "codemirror_mode": {
    "name": "ipython",
    "version": 2
   },
   "file_extension": ".py",
   "mimetype": "text/x-python",
   "name": "python",
   "nbconvert_exporter": "python",
   "pygments_lexer": "ipython2",
   "version": "2.7.12"
  }
 },
 "nbformat": 4,
 "nbformat_minor": 0
}
